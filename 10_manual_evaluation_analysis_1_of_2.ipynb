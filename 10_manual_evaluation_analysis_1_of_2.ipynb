{
 "cells": [
  {
   "cell_type": "markdown",
   "id": "c5eab2e3",
   "metadata": {},
   "source": [
    "# Manual analysis of evaluation results (1 of 2)"
   ]
  },
  {
   "cell_type": "markdown",
   "id": "8b7663df",
   "metadata": {},
   "source": [
    "### Environment setup\n",
    "python 00_setup.py"
   ]
  },
  {
   "cell_type": "markdown",
   "id": "e70b03fd",
   "metadata": {},
   "source": [
    "### Libraries"
   ]
  },
  {
   "cell_type": "code",
   "execution_count": 2,
   "id": "62361a65",
   "metadata": {},
   "outputs": [],
   "source": [
    "import os\n",
    "import dotenv\n",
    "from pathlib import Path\n",
    "import pandas as pd\n",
    "import json"
   ]
  },
  {
   "cell_type": "markdown",
   "id": "30595540",
   "metadata": {},
   "source": [
    "### Display setup"
   ]
  },
  {
   "cell_type": "code",
   "execution_count": 3,
   "id": "7546bf0f",
   "metadata": {},
   "outputs": [],
   "source": [
    "pd.set_option('display.max_colwidth', None)"
   ]
  },
  {
   "cell_type": "markdown",
   "id": "cbed1ec5",
   "metadata": {},
   "source": [
    "### Global variables"
   ]
  },
  {
   "cell_type": "code",
   "execution_count": 4,
   "id": "711210b2",
   "metadata": {},
   "outputs": [],
   "source": [
    "PRIVATE = False\n",
    "DATA_DIR = Path(\"data\")\n",
    "TMP_DIR = Path(\"tmp\")"
   ]
  },
  {
   "cell_type": "markdown",
   "id": "5eaeda79",
   "metadata": {},
   "source": [
    "### Load environment variables"
   ]
  },
  {
   "cell_type": "code",
   "execution_count": 5,
   "id": "2b9c7847",
   "metadata": {},
   "outputs": [
    {
     "data": {
      "text/plain": [
       "True"
      ]
     },
     "execution_count": 5,
     "metadata": {},
     "output_type": "execute_result"
    }
   ],
   "source": [
    "# Import override environment variables from .env file\n",
    "# or from private.env file if PRIVATE is True\n",
    "dotenv.load_dotenv('.env' if not PRIVATE else 'private.env', override=True)"
   ]
  },
  {
   "cell_type": "markdown",
   "id": "940b0273",
   "metadata": {},
   "source": [
    "### Helper functions"
   ]
  },
  {
   "cell_type": "code",
   "execution_count": 6,
   "id": "4c9f7f09",
   "metadata": {},
   "outputs": [],
   "source": [
    "from rich.console import Console\n",
    "from rich.markdown import Markdown\n",
    "\n",
    "def pretty_markdown(_text):\n",
    "    Console().print(Markdown(_text))"
   ]
  },
  {
   "cell_type": "markdown",
   "id": "bdede4eb",
   "metadata": {},
   "source": [
    "### Load evaluation file (jsonl)"
   ]
  },
  {
   "cell_type": "code",
   "execution_count": 7,
   "id": "3230e37f",
   "metadata": {},
   "outputs": [],
   "source": [
    "def load_evaluation(_json_file):\n",
    "    \n",
    "    lines = []\n",
    "    with open(_json_file) as f:\n",
    "        lines = f.read().splitlines()\n",
    "\n",
    "    line_dicts = [json.loads(line) for line in lines]\n",
    "    return pd.DataFrame(line_dicts)\n",
    "\n",
    "_df = load_evaluation(DATA_DIR / 'science-trivia__context_response_feedback_v12__evaluated.jsonl')"
   ]
  },
  {
   "cell_type": "markdown",
   "id": "47f3b4fa",
   "metadata": {},
   "source": [
    "### Check columns and data types"
   ]
  },
  {
   "cell_type": "code",
   "execution_count": 8,
   "id": "0ed89b7f",
   "metadata": {},
   "outputs": [
    {
     "data": {
      "text/plain": [
       "inputs.query                                    object\n",
       "inputs.ground_truth                             object\n",
       "inputs.response                                 object\n",
       "inputs.context                                  object\n",
       "inputs.version                                   int64\n",
       "inputs.thumbs_up                                  bool\n",
       "inputs.timestamp                                 int64\n",
       "outputs.Groundedness.groundedness                int64\n",
       "outputs.Groundedness.gpt_groundedness            int64\n",
       "outputs.Groundedness.groundedness_reason        object\n",
       "outputs.Groundedness.groundedness_result        object\n",
       "outputs.Groundedness.groundedness_threshold      int64\n",
       "outputs.Similarity.similarity                    int64\n",
       "outputs.Similarity.gpt_similarity                int64\n",
       "outputs.Similarity.similarity_result            object\n",
       "outputs.Similarity.similarity_threshold          int64\n",
       "outputs.METEOR_score.meteor_score              float64\n",
       "outputs.METEOR_score.meteor_result              object\n",
       "outputs.METEOR_score.meteor_threshold          float64\n",
       "dtype: object"
      ]
     },
     "execution_count": 8,
     "metadata": {},
     "output_type": "execute_result"
    }
   ],
   "source": [
    "_df.dtypes"
   ]
  },
  {
   "cell_type": "markdown",
   "id": "d87ad2e9",
   "metadata": {},
   "source": [
    "## Descriptive statistics\n",
    "\n",
    "### e.g. positive human feed back (thumbs up) "
   ]
  },
  {
   "cell_type": "code",
   "execution_count": 9,
   "id": "aee02251",
   "metadata": {},
   "outputs": [
    {
     "data": {
      "text/plain": [
       "inputs.thumbs_up\n",
       "True     0.653333\n",
       "False    0.346667\n",
       "Name: proportion, dtype: float64"
      ]
     },
     "execution_count": 9,
     "metadata": {},
     "output_type": "execute_result"
    }
   ],
   "source": [
    "# calculate frequency of thumbs_up \n",
    "def calculate_frequency(df, column, normalize=False):\n",
    "    return df[column].value_counts(normalize=normalize)\n",
    "\n",
    "calculate_frequency(_df, 'inputs.thumbs_up', True)"
   ]
  },
  {
   "cell_type": "markdown",
   "id": "75f2df58",
   "metadata": {},
   "source": [
    "### e.g. cross tab evaluated features vs thumbs up "
   ]
  },
  {
   "cell_type": "code",
   "execution_count": 10,
   "id": "b67c94a9",
   "metadata": {},
   "outputs": [
    {
     "data": {
      "text/html": [
       "<div>\n",
       "<style scoped>\n",
       "    .dataframe tbody tr th:only-of-type {\n",
       "        vertical-align: middle;\n",
       "    }\n",
       "\n",
       "    .dataframe tbody tr th {\n",
       "        vertical-align: top;\n",
       "    }\n",
       "\n",
       "    .dataframe thead th {\n",
       "        text-align: right;\n",
       "    }\n",
       "</style>\n",
       "<table border=\"1\" class=\"dataframe\">\n",
       "  <thead>\n",
       "    <tr style=\"text-align: right;\">\n",
       "      <th>inputs.thumbs_up</th>\n",
       "      <th>False</th>\n",
       "      <th>True</th>\n",
       "    </tr>\n",
       "    <tr>\n",
       "      <th>outputs.Groundedness.groundedness</th>\n",
       "      <th></th>\n",
       "      <th></th>\n",
       "    </tr>\n",
       "  </thead>\n",
       "  <tbody>\n",
       "    <tr>\n",
       "      <th>1</th>\n",
       "      <td>6</td>\n",
       "      <td>11</td>\n",
       "    </tr>\n",
       "    <tr>\n",
       "      <th>2</th>\n",
       "      <td>3</td>\n",
       "      <td>0</td>\n",
       "    </tr>\n",
       "    <tr>\n",
       "      <th>3</th>\n",
       "      <td>14</td>\n",
       "      <td>8</td>\n",
       "    </tr>\n",
       "    <tr>\n",
       "      <th>4</th>\n",
       "      <td>0</td>\n",
       "      <td>9</td>\n",
       "    </tr>\n",
       "    <tr>\n",
       "      <th>5</th>\n",
       "      <td>3</td>\n",
       "      <td>21</td>\n",
       "    </tr>\n",
       "  </tbody>\n",
       "</table>\n",
       "</div>"
      ],
      "text/plain": [
       "inputs.thumbs_up                   False  True \n",
       "outputs.Groundedness.groundedness              \n",
       "1                                      6     11\n",
       "2                                      3      0\n",
       "3                                     14      8\n",
       "4                                      0      9\n",
       "5                                      3     21"
      ]
     },
     "execution_count": 10,
     "metadata": {},
     "output_type": "execute_result"
    }
   ],
   "source": [
    "pd.crosstab(_df['outputs.Groundedness.groundedness'], _df['inputs.thumbs_up'])"
   ]
  },
  {
   "cell_type": "markdown",
   "id": "8007d91c",
   "metadata": {},
   "source": [
    "### Using machine learning to find relevant features"
   ]
  },
  {
   "cell_type": "markdown",
   "id": "6ff37cff",
   "metadata": {},
   "source": [
    "### Select features (X), remove duplicates, remove NAs, ..."
   ]
  },
  {
   "cell_type": "code",
   "execution_count": 11,
   "id": "2f0db48a",
   "metadata": {},
   "outputs": [
    {
     "data": {
      "text/plain": [
       "inputs.thumbs_up                        bool\n",
       "outputs.Groundedness.groundedness      int64\n",
       "outputs.Similarity.similarity          int64\n",
       "outputs.METEOR_score.meteor_score    float64\n",
       "dtype: object"
      ]
     },
     "execution_count": 11,
     "metadata": {},
     "output_type": "execute_result"
    }
   ],
   "source": [
    "def get_X(_df):\n",
    "    X = _df.drop(columns=[col for col in _df.columns if (col.startswith('inputs.') and col != 'inputs.thumbs_up') \\\n",
    "                          or _df[col].dtype == 'object' or col.endswith('_threshold')])\n",
    "    X.dropna(inplace=True)\n",
    "    return X\n",
    "\n",
    "# loop all columns and split their names by '.'    \n",
    "def split_column_names(df):\n",
    "    split_names = {}\n",
    "    for col in df.columns:\n",
    "        parts = col.split('.')\n",
    "        sn=parts[len(parts)-1]\n",
    "        split_names[sn] =  True\n",
    "    return split_names\n",
    "\n",
    "def remove_gpt_duplicates(df):\n",
    "    split_names=split_column_names(df)\n",
    "    torm = []\n",
    "    \n",
    "    for col in df.columns:\n",
    "        parts = col.split('.')\n",
    "        sn=parts[len(parts)-1]\n",
    "        if sn.startswith('gpt_') and f'{sn[4:]}' in split_names:\n",
    "            torm.append(col)\n",
    "    \n",
    "    return df.drop(columns=torm)\n",
    "\n",
    "X = remove_gpt_duplicates(get_X(_df))\n",
    "X.dtypes"
   ]
  },
  {
   "cell_type": "markdown",
   "id": "2ac4faed",
   "metadata": {},
   "source": [
    "#### Set thumbs_up as label (Y) "
   ]
  },
  {
   "cell_type": "code",
   "execution_count": 12,
   "id": "0fcf3c4b",
   "metadata": {},
   "outputs": [],
   "source": [
    "y = X.pop('inputs.thumbs_up').astype(int)"
   ]
  },
  {
   "cell_type": "markdown",
   "id": "50e89b52",
   "metadata": {},
   "source": [
    "#### Use logistic regression to fit predictive model\n"
   ]
  },
  {
   "cell_type": "code",
   "execution_count": 13,
   "id": "4840eea8",
   "metadata": {},
   "outputs": [
    {
     "name": "stdout",
     "output_type": "stream",
     "text": [
      "Optimization terminated successfully.\n",
      "         Current function value: 0.439161\n",
      "         Iterations 7\n"
     ]
    }
   ],
   "source": [
    "import statsmodels.api as sm\n",
    "\n",
    "X = sm.add_constant(X)  # Adds a constant term to the predictor\n",
    "model = sm.Logit(y, X)\n",
    "result = model.fit()\n",
    "\n",
    "_result = f'{result.summary()}\\n\\nCoefficients:\\n{result.params}\\n\\nP-values:\\n{result.pvalues}'"
   ]
  },
  {
   "cell_type": "code",
   "execution_count": 14,
   "id": "56b12333",
   "metadata": {},
   "outputs": [
    {
     "name": "stdout",
     "output_type": "stream",
     "text": [
      "                           Logit Regression Results                           \n",
      "==============================================================================\n",
      "Dep. Variable:       inputs.thumbs_up   No. Observations:                   75\n",
      "Model:                          Logit   Df Residuals:                       71\n",
      "Method:                           MLE   Df Model:                            3\n",
      "Date:                Mon, 23 Jun 2025   Pseudo R-squ.:                  0.3195\n",
      "Time:                        16:14:26   Log-Likelihood:                -32.937\n",
      "converged:                       True   LL-Null:                       -48.402\n",
      "Covariance Type:            nonrobust   LLR p-value:                 8.796e-07\n",
      "=====================================================================================================\n",
      "                                        coef    std err          z      P>|z|      [0.025      0.975]\n",
      "-----------------------------------------------------------------------------------------------------\n",
      "const                                -3.8139      1.043     -3.655      0.000      -5.859      -1.769\n",
      "outputs.Groundedness.groundedness     0.3135      0.213      1.475      0.140      -0.103       0.730\n",
      "outputs.Similarity.similarity         0.7622      0.229      3.322      0.001       0.313       1.212\n",
      "outputs.METEOR_score.meteor_score     3.3223      2.096      1.585      0.113      -0.786       7.431\n",
      "=====================================================================================================\n",
      "\n",
      "Coefficients:\n",
      "const                               -3.813938\n",
      "outputs.Groundedness.groundedness    0.313547\n",
      "outputs.Similarity.similarity        0.762193\n",
      "outputs.METEOR_score.meteor_score    3.322342\n",
      "dtype: float64\n",
      "\n",
      "P-values:\n",
      "const                                0.000257\n",
      "outputs.Groundedness.groundedness    0.140328\n",
      "outputs.Similarity.similarity        0.000894\n",
      "outputs.METEOR_score.meteor_score    0.112960\n",
      "dtype: float64\n"
     ]
    }
   ],
   "source": [
    "print(_result)"
   ]
  },
  {
   "cell_type": "markdown",
   "id": "2e07df80",
   "metadata": {},
   "source": [
    "### Use LLM to explain logistic regression result"
   ]
  },
  {
   "cell_type": "code",
   "execution_count": 15,
   "id": "2a077927",
   "metadata": {},
   "outputs": [],
   "source": [
    "# https://python.langchain.com/docs/integrations/chat/azure_chat_openai/\n",
    "from langchain_openai import AzureChatOpenAI\n",
    "\n",
    "llm = AzureChatOpenAI(\n",
    "    azure_deployment=os.getenv('AZURE_OPENAI_DEPLOYMENT'),\n",
    "    api_version=os.getenv('AZURE_OPENAI_API_VERSION'),\n",
    "    azure_endpoint=os.getenv('AZURE_OPENAI_ENDPOINT'),\n",
    "    temperature=0.7,\n",
    "    top_p=0,\n",
    "    max_tokens=1600,\n",
    "    timeout=None,\n",
    "    max_retries=1,\n",
    "    cache=False\n",
    "    # other params...\n",
    ")"
   ]
  },
  {
   "cell_type": "code",
   "execution_count": 16,
   "id": "920170b5",
   "metadata": {},
   "outputs": [
    {
     "data": {
      "text/html": [
       "<pre style=\"white-space:pre;overflow-x:auto;line-height:normal;font-family:Menlo,'DejaVu Sans Mono',consolas,'Courier New',monospace\">To interpret the logistic regression results, we need to focus on the coefficients, p-values, and their signs.     \n",
       "Here's a breakdown of the analysis:                                                                                \n",
       "\n",
       "                                                   <span style=\"font-weight: bold\">Key Metrics:</span>                                                    \n",
       "\n",
       "<span style=\"color: #808000; text-decoration-color: #808000; font-weight: bold\"> 1 </span><span style=\"font-weight: bold\">Coefficients</span>: Indicate the direction and magnitude of the relationship between the predictor variables and the  \n",
       "<span style=\"color: #808000; text-decoration-color: #808000; font-weight: bold\">   </span>dependent variable (<span style=\"color: #008080; text-decoration-color: #008080; background-color: #000000; font-weight: bold\">inputs.thumbs_up</span>).                                                                          \n",
       "<span style=\"color: #808000; text-decoration-color: #808000; font-weight: bold\">    • </span>Positive coefficients suggest a positive relationship (higher values of the predictor increase the likelihood\n",
       "<span style=\"color: #808000; text-decoration-color: #808000; font-weight: bold\">      </span>of <span style=\"color: #008080; text-decoration-color: #008080; background-color: #000000; font-weight: bold\">thumbs_up</span>).                                                                                               \n",
       "<span style=\"color: #808000; text-decoration-color: #808000; font-weight: bold\">    • </span>Negative coefficients suggest a negative relationship (higher values of the predictor decrease the likelihood\n",
       "<span style=\"color: #808000; text-decoration-color: #808000; font-weight: bold\">      </span>of <span style=\"color: #008080; text-decoration-color: #008080; background-color: #000000; font-weight: bold\">thumbs_up</span>).                                                                                               \n",
       "<span style=\"color: #808000; text-decoration-color: #808000; font-weight: bold\"> 2 </span><span style=\"font-weight: bold\">P-values</span>: Indicate the statistical significance of the predictors.                                              \n",
       "<span style=\"color: #808000; text-decoration-color: #808000; font-weight: bold\">    • </span>A p-value less than 0.05 is typically considered statistically significant, meaning the predictor has a      \n",
       "<span style=\"color: #808000; text-decoration-color: #808000; font-weight: bold\">      </span>meaningful impact on the dependent variable.                                                                 \n",
       "<span style=\"color: #808000; text-decoration-color: #808000; font-weight: bold\"> 3 </span><span style=\"font-weight: bold\">Confidence Intervals</span>: Provide a range within which the true coefficient is likely to fall. If the interval      \n",
       "<span style=\"color: #808000; text-decoration-color: #808000; font-weight: bold\">   </span>includes zero, the predictor may not be significant.                                                            \n",
       "\n",
       "<span style=\"color: #808000; text-decoration-color: #808000\">───────────────────────────────────────────────────────────────────────────────────────────────────────────────────</span>\n",
       "                                               <span style=\"font-weight: bold\">Analysis of Features:</span>                                               \n",
       "\n",
       "                                               <span style=\"color: #7f7f7f; text-decoration-color: #7f7f7f; font-weight: bold\">1. Intercept (</span><span style=\"color: #7fbfbf; text-decoration-color: #7fbfbf; background-color: #000000; font-weight: bold\">const</span><span style=\"color: #7f7f7f; text-decoration-color: #7f7f7f; font-weight: bold\">):</span>                                               \n",
       "\n",
       "<span style=\"color: #808000; text-decoration-color: #808000; font-weight: bold\"> • </span>Coefficient: <span style=\"color: #008080; text-decoration-color: #008080; background-color: #000000; font-weight: bold\">-3.8139</span>                                                                                            \n",
       "<span style=\"color: #808000; text-decoration-color: #808000; font-weight: bold\"> • </span>P-value: <span style=\"color: #008080; text-decoration-color: #008080; background-color: #000000; font-weight: bold\">0.000</span>                                                                                                  \n",
       "<span style=\"color: #808000; text-decoration-color: #808000; font-weight: bold\"> • </span>Interpretation: The intercept is statistically significant and negative. This means that when all predictors are\n",
       "<span style=\"color: #808000; text-decoration-color: #808000; font-weight: bold\">   </span>zero, the baseline likelihood of <span style=\"color: #008080; text-decoration-color: #008080; background-color: #000000; font-weight: bold\">thumbs_up</span> is very low.                                                         \n",
       "\n",
       "                                       <span style=\"color: #7f7f7f; text-decoration-color: #7f7f7f; font-weight: bold\">2. </span><span style=\"color: #7fbfbf; text-decoration-color: #7fbfbf; background-color: #000000; font-weight: bold\">outputs.Groundedness.groundedness</span><span style=\"color: #7f7f7f; text-decoration-color: #7f7f7f; font-weight: bold\">:</span>                                       \n",
       "\n",
       "<span style=\"color: #808000; text-decoration-color: #808000; font-weight: bold\"> • </span>Coefficient: <span style=\"color: #008080; text-decoration-color: #008080; background-color: #000000; font-weight: bold\">0.3135</span>                                                                                             \n",
       "<span style=\"color: #808000; text-decoration-color: #808000; font-weight: bold\"> • </span>P-value: <span style=\"color: #008080; text-decoration-color: #008080; background-color: #000000; font-weight: bold\">0.140</span>                                                                                                  \n",
       "<span style=\"color: #808000; text-decoration-color: #808000; font-weight: bold\"> • </span>Interpretation: This feature has a positive coefficient, suggesting that higher groundedness increases the      \n",
       "<span style=\"color: #808000; text-decoration-color: #808000; font-weight: bold\">   </span>likelihood of <span style=\"color: #008080; text-decoration-color: #008080; background-color: #000000; font-weight: bold\">thumbs_up</span>. However, the p-value is greater than 0.05, meaning it is <span style=\"font-weight: bold\">not statistically significant</span>.\n",
       "\n",
       "                                         <span style=\"color: #7f7f7f; text-decoration-color: #7f7f7f; font-weight: bold\">3. </span><span style=\"color: #7fbfbf; text-decoration-color: #7fbfbf; background-color: #000000; font-weight: bold\">outputs.Similarity.similarity</span><span style=\"color: #7f7f7f; text-decoration-color: #7f7f7f; font-weight: bold\">:</span>                                         \n",
       "\n",
       "<span style=\"color: #808000; text-decoration-color: #808000; font-weight: bold\"> • </span>Coefficient: <span style=\"color: #008080; text-decoration-color: #008080; background-color: #000000; font-weight: bold\">0.7622</span>                                                                                             \n",
       "<span style=\"color: #808000; text-decoration-color: #808000; font-weight: bold\"> • </span>P-value: <span style=\"color: #008080; text-decoration-color: #008080; background-color: #000000; font-weight: bold\">0.001</span>                                                                                                  \n",
       "<span style=\"color: #808000; text-decoration-color: #808000; font-weight: bold\"> • </span>Interpretation: This feature has a positive coefficient and a statistically significant p-value (&lt; 0.05). This  \n",
       "<span style=\"color: #808000; text-decoration-color: #808000; font-weight: bold\">   </span>means that higher similarity strongly increases the likelihood of <span style=\"color: #008080; text-decoration-color: #008080; background-color: #000000; font-weight: bold\">thumbs_up</span>, and the effect is statistically    \n",
       "<span style=\"color: #808000; text-decoration-color: #808000; font-weight: bold\">   </span>meaningful.                                                                                                     \n",
       "\n",
       "                                       <span style=\"color: #7f7f7f; text-decoration-color: #7f7f7f; font-weight: bold\">4. </span><span style=\"color: #7fbfbf; text-decoration-color: #7fbfbf; background-color: #000000; font-weight: bold\">outputs.METEOR_score.meteor_score</span><span style=\"color: #7f7f7f; text-decoration-color: #7f7f7f; font-weight: bold\">:</span>                                       \n",
       "\n",
       "<span style=\"color: #808000; text-decoration-color: #808000; font-weight: bold\"> • </span>Coefficient: <span style=\"color: #008080; text-decoration-color: #008080; background-color: #000000; font-weight: bold\">3.3223</span>                                                                                             \n",
       "<span style=\"color: #808000; text-decoration-color: #808000; font-weight: bold\"> • </span>P-value: <span style=\"color: #008080; text-decoration-color: #008080; background-color: #000000; font-weight: bold\">0.113</span>                                                                                                  \n",
       "<span style=\"color: #808000; text-decoration-color: #808000; font-weight: bold\"> • </span>Interpretation: This feature has a positive coefficient, suggesting that higher METEOR scores increase the      \n",
       "<span style=\"color: #808000; text-decoration-color: #808000; font-weight: bold\">   </span>likelihood of <span style=\"color: #008080; text-decoration-color: #008080; background-color: #000000; font-weight: bold\">thumbs_up</span>. However, the p-value is greater than 0.05, meaning it is <span style=\"font-weight: bold\">not statistically significant</span>.\n",
       "\n",
       "<span style=\"color: #808000; text-decoration-color: #808000\">───────────────────────────────────────────────────────────────────────────────────────────────────────────────────</span>\n",
       "                                          <span style=\"font-weight: bold\">Summary of Important Features:</span>                                           \n",
       "\n",
       "<span style=\"color: #808000; text-decoration-color: #808000; font-weight: bold\"> 1 </span><span style=\"font-weight: bold\">Most Important Feature</span>:                                                                                         \n",
       "<span style=\"color: #808000; text-decoration-color: #808000; font-weight: bold\">    • </span><span style=\"color: #008080; text-decoration-color: #008080; background-color: #000000; font-weight: bold\">outputs.Similarity.similarity</span> is the most important feature because it has a statistically significant       \n",
       "<span style=\"color: #808000; text-decoration-color: #808000; font-weight: bold\">      </span>positive effect (p-value = 0.001) and a relatively large coefficient (<span style=\"color: #008080; text-decoration-color: #008080; background-color: #000000; font-weight: bold\">0.7622</span>).                               \n",
       "<span style=\"color: #808000; text-decoration-color: #808000; font-weight: bold\"> 2 </span><span style=\"font-weight: bold\">Other Features</span>:                                                                                                 \n",
       "<span style=\"color: #808000; text-decoration-color: #808000; font-weight: bold\">    • </span><span style=\"color: #008080; text-decoration-color: #008080; background-color: #000000; font-weight: bold\">outputs.Groundedness.groundedness</span> and <span style=\"color: #008080; text-decoration-color: #008080; background-color: #000000; font-weight: bold\">outputs.METEOR_score.meteor_score</span> have positive coefficients, but their\n",
       "<span style=\"color: #808000; text-decoration-color: #808000; font-weight: bold\">      </span>effects are <span style=\"font-weight: bold\">not statistically significant</span> (p-values &gt; 0.05).                                                 \n",
       "<span style=\"color: #808000; text-decoration-color: #808000; font-weight: bold\"> 3 </span><span style=\"font-weight: bold\">Intercept</span>:                                                                                                      \n",
       "<span style=\"color: #808000; text-decoration-color: #808000; font-weight: bold\">    • </span>The negative intercept suggests that the baseline likelihood of <span style=\"color: #008080; text-decoration-color: #008080; background-color: #000000; font-weight: bold\">thumbs_up</span> is low when all predictors are     \n",
       "<span style=\"color: #808000; text-decoration-color: #808000; font-weight: bold\">      </span>zero.                                                                                                        \n",
       "\n",
       "<span style=\"color: #808000; text-decoration-color: #808000\">───────────────────────────────────────────────────────────────────────────────────────────────────────────────────</span>\n",
       "                                              <span style=\"font-weight: bold\">Influence on </span><span style=\"color: #008080; text-decoration-color: #008080; background-color: #000000; font-weight: bold\">thumbs_up</span><span style=\"font-weight: bold\">:</span>                                              \n",
       "\n",
       "<span style=\"color: #808000; text-decoration-color: #808000; font-weight: bold\"> • </span><span style=\"font-weight: bold\">Positive Influence</span>:                                                                                             \n",
       "<span style=\"color: #808000; text-decoration-color: #808000; font-weight: bold\">    • </span><span style=\"color: #008080; text-decoration-color: #008080; background-color: #000000; font-weight: bold\">outputs.Similarity.similarity</span> (statistically significant).                                                   \n",
       "<span style=\"color: #808000; text-decoration-color: #808000; font-weight: bold\">    • </span><span style=\"color: #008080; text-decoration-color: #008080; background-color: #000000; font-weight: bold\">outputs.Groundedness.groundedness</span> and <span style=\"color: #008080; text-decoration-color: #008080; background-color: #000000; font-weight: bold\">outputs.METEOR_score.meteor_score</span> (not statistically significant).     \n",
       "<span style=\"color: #808000; text-decoration-color: #808000; font-weight: bold\"> • </span><span style=\"font-weight: bold\">Negative Influence</span>:                                                                                             \n",
       "<span style=\"color: #808000; text-decoration-color: #808000; font-weight: bold\">    • </span>The intercept (<span style=\"color: #008080; text-decoration-color: #008080; background-color: #000000; font-weight: bold\">const</span>) negatively influences the likelihood of <span style=\"color: #008080; text-decoration-color: #008080; background-color: #000000; font-weight: bold\">thumbs_up</span>.                                     \n",
       "</pre>\n"
      ],
      "text/plain": [
       "To interpret the logistic regression results, we need to focus on the coefficients, p-values, and their signs.     \n",
       "Here's a breakdown of the analysis:                                                                                \n",
       "\n",
       "                                                   \u001b[1mKey Metrics:\u001b[0m                                                    \n",
       "\n",
       "\u001b[1;33m 1 \u001b[0m\u001b[1mCoefficients\u001b[0m: Indicate the direction and magnitude of the relationship between the predictor variables and the  \n",
       "\u001b[1;33m   \u001b[0mdependent variable (\u001b[1;36;40minputs.thumbs_up\u001b[0m).                                                                          \n",
       "\u001b[1;33m   \u001b[0m\u001b[1;33m • \u001b[0mPositive coefficients suggest a positive relationship (higher values of the predictor increase the likelihood\n",
       "\u001b[1;33m   \u001b[0m\u001b[1;33m   \u001b[0mof \u001b[1;36;40mthumbs_up\u001b[0m).                                                                                               \n",
       "\u001b[1;33m   \u001b[0m\u001b[1;33m • \u001b[0mNegative coefficients suggest a negative relationship (higher values of the predictor decrease the likelihood\n",
       "\u001b[1;33m   \u001b[0m\u001b[1;33m   \u001b[0mof \u001b[1;36;40mthumbs_up\u001b[0m).                                                                                               \n",
       "\u001b[1;33m 2 \u001b[0m\u001b[1mP-values\u001b[0m: Indicate the statistical significance of the predictors.                                              \n",
       "\u001b[1;33m   \u001b[0m\u001b[1;33m • \u001b[0mA p-value less than 0.05 is typically considered statistically significant, meaning the predictor has a      \n",
       "\u001b[1;33m   \u001b[0m\u001b[1;33m   \u001b[0mmeaningful impact on the dependent variable.                                                                 \n",
       "\u001b[1;33m 3 \u001b[0m\u001b[1mConfidence Intervals\u001b[0m: Provide a range within which the true coefficient is likely to fall. If the interval      \n",
       "\u001b[1;33m   \u001b[0mincludes zero, the predictor may not be significant.                                                            \n",
       "\n",
       "\u001b[33m───────────────────────────────────────────────────────────────────────────────────────────────────────────────────\u001b[0m\n",
       "                                               \u001b[1mAnalysis of Features:\u001b[0m                                               \n",
       "\n",
       "                                               \u001b[1;2m1. \u001b[0m\u001b[1;2mIntercept (\u001b[0m\u001b[1;2;36;40mconst\u001b[0m\u001b[1;2m)\u001b[0m\u001b[1;2m:\u001b[0m                                               \n",
       "\n",
       "\u001b[1;33m • \u001b[0mCoefficient: \u001b[1;36;40m-3.8139\u001b[0m                                                                                            \n",
       "\u001b[1;33m • \u001b[0mP-value: \u001b[1;36;40m0.000\u001b[0m                                                                                                  \n",
       "\u001b[1;33m • \u001b[0mInterpretation: The intercept is statistically significant and negative. This means that when all predictors are\n",
       "\u001b[1;33m   \u001b[0mzero, the baseline likelihood of \u001b[1;36;40mthumbs_up\u001b[0m is very low.                                                         \n",
       "\n",
       "                                       \u001b[1;2m2. \u001b[0m\u001b[1;2;36;40moutputs.Groundedness.groundedness\u001b[0m\u001b[1;2m:\u001b[0m                                       \n",
       "\n",
       "\u001b[1;33m • \u001b[0mCoefficient: \u001b[1;36;40m0.3135\u001b[0m                                                                                             \n",
       "\u001b[1;33m • \u001b[0mP-value: \u001b[1;36;40m0.140\u001b[0m                                                                                                  \n",
       "\u001b[1;33m • \u001b[0mInterpretation: This feature has a positive coefficient, suggesting that higher groundedness increases the      \n",
       "\u001b[1;33m   \u001b[0mlikelihood of \u001b[1;36;40mthumbs_up\u001b[0m. However, the p-value is greater than 0.05, meaning it is \u001b[1mnot statistically significant\u001b[0m.\n",
       "\n",
       "                                         \u001b[1;2m3. \u001b[0m\u001b[1;2;36;40moutputs.Similarity.similarity\u001b[0m\u001b[1;2m:\u001b[0m                                         \n",
       "\n",
       "\u001b[1;33m • \u001b[0mCoefficient: \u001b[1;36;40m0.7622\u001b[0m                                                                                             \n",
       "\u001b[1;33m • \u001b[0mP-value: \u001b[1;36;40m0.001\u001b[0m                                                                                                  \n",
       "\u001b[1;33m • \u001b[0mInterpretation: This feature has a positive coefficient and a statistically significant p-value (< 0.05). This  \n",
       "\u001b[1;33m   \u001b[0mmeans that higher similarity strongly increases the likelihood of \u001b[1;36;40mthumbs_up\u001b[0m, and the effect is statistically    \n",
       "\u001b[1;33m   \u001b[0mmeaningful.                                                                                                     \n",
       "\n",
       "                                       \u001b[1;2m4. \u001b[0m\u001b[1;2;36;40moutputs.METEOR_score.meteor_score\u001b[0m\u001b[1;2m:\u001b[0m                                       \n",
       "\n",
       "\u001b[1;33m • \u001b[0mCoefficient: \u001b[1;36;40m3.3223\u001b[0m                                                                                             \n",
       "\u001b[1;33m • \u001b[0mP-value: \u001b[1;36;40m0.113\u001b[0m                                                                                                  \n",
       "\u001b[1;33m • \u001b[0mInterpretation: This feature has a positive coefficient, suggesting that higher METEOR scores increase the      \n",
       "\u001b[1;33m   \u001b[0mlikelihood of \u001b[1;36;40mthumbs_up\u001b[0m. However, the p-value is greater than 0.05, meaning it is \u001b[1mnot statistically significant\u001b[0m.\n",
       "\n",
       "\u001b[33m───────────────────────────────────────────────────────────────────────────────────────────────────────────────────\u001b[0m\n",
       "                                          \u001b[1mSummary of Important Features:\u001b[0m                                           \n",
       "\n",
       "\u001b[1;33m 1 \u001b[0m\u001b[1mMost Important Feature\u001b[0m:                                                                                         \n",
       "\u001b[1;33m   \u001b[0m\u001b[1;33m • \u001b[0m\u001b[1;36;40moutputs.Similarity.similarity\u001b[0m is the most important feature because it has a statistically significant       \n",
       "\u001b[1;33m   \u001b[0m\u001b[1;33m   \u001b[0mpositive effect (p-value = 0.001) and a relatively large coefficient (\u001b[1;36;40m0.7622\u001b[0m).                               \n",
       "\u001b[1;33m 2 \u001b[0m\u001b[1mOther Features\u001b[0m:                                                                                                 \n",
       "\u001b[1;33m   \u001b[0m\u001b[1;33m • \u001b[0m\u001b[1;36;40moutputs.Groundedness.groundedness\u001b[0m and \u001b[1;36;40moutputs.METEOR_score.meteor_score\u001b[0m have positive coefficients, but their\n",
       "\u001b[1;33m   \u001b[0m\u001b[1;33m   \u001b[0meffects are \u001b[1mnot statistically significant\u001b[0m (p-values > 0.05).                                                 \n",
       "\u001b[1;33m 3 \u001b[0m\u001b[1mIntercept\u001b[0m:                                                                                                      \n",
       "\u001b[1;33m   \u001b[0m\u001b[1;33m • \u001b[0mThe negative intercept suggests that the baseline likelihood of \u001b[1;36;40mthumbs_up\u001b[0m is low when all predictors are     \n",
       "\u001b[1;33m   \u001b[0m\u001b[1;33m   \u001b[0mzero.                                                                                                        \n",
       "\n",
       "\u001b[33m───────────────────────────────────────────────────────────────────────────────────────────────────────────────────\u001b[0m\n",
       "                                              \u001b[1mInfluence on \u001b[0m\u001b[1;36;40mthumbs_up\u001b[0m\u001b[1m:\u001b[0m                                              \n",
       "\n",
       "\u001b[1;33m • \u001b[0m\u001b[1mPositive Influence\u001b[0m:                                                                                             \n",
       "\u001b[1;33m   \u001b[0m\u001b[1;33m • \u001b[0m\u001b[1;36;40moutputs.Similarity.similarity\u001b[0m (statistically significant).                                                   \n",
       "\u001b[1;33m   \u001b[0m\u001b[1;33m • \u001b[0m\u001b[1;36;40moutputs.Groundedness.groundedness\u001b[0m and \u001b[1;36;40moutputs.METEOR_score.meteor_score\u001b[0m (not statistically significant).     \n",
       "\u001b[1;33m • \u001b[0m\u001b[1mNegative Influence\u001b[0m:                                                                                             \n",
       "\u001b[1;33m   \u001b[0m\u001b[1;33m • \u001b[0mThe intercept (\u001b[1;36;40mconst\u001b[0m) negatively influences the likelihood of \u001b[1;36;40mthumbs_up\u001b[0m.                                     \n"
      ]
     },
     "metadata": {},
     "output_type": "display_data"
    }
   ],
   "source": [
    "_interpretation = llm.invoke(f'Explain the following logistic regression result:\\n\\n{_result}\\n\\nWhat are the most important features and if they influence thumbs_up positively or negatively?').content\n",
    "pretty_markdown(_interpretation)"
   ]
  },
  {
   "cell_type": "markdown",
   "id": "6bc501dd",
   "metadata": {},
   "source": [
    "### Follow up findings from logistic regression"
   ]
  },
  {
   "cell_type": "markdown",
   "id": "51923d93",
   "metadata": {},
   "source": [
    "#### e.g. Similarity"
   ]
  },
  {
   "cell_type": "code",
   "execution_count": 17,
   "id": "4302ab3d",
   "metadata": {},
   "outputs": [
    {
     "data": {
      "text/html": [
       "<div>\n",
       "<style scoped>\n",
       "    .dataframe tbody tr th:only-of-type {\n",
       "        vertical-align: middle;\n",
       "    }\n",
       "\n",
       "    .dataframe tbody tr th {\n",
       "        vertical-align: top;\n",
       "    }\n",
       "\n",
       "    .dataframe thead th {\n",
       "        text-align: right;\n",
       "    }\n",
       "</style>\n",
       "<table border=\"1\" class=\"dataframe\">\n",
       "  <thead>\n",
       "    <tr style=\"text-align: right;\">\n",
       "      <th>inputs.thumbs_up</th>\n",
       "      <th>False</th>\n",
       "      <th>True</th>\n",
       "    </tr>\n",
       "    <tr>\n",
       "      <th>outputs.Similarity.similarity</th>\n",
       "      <th></th>\n",
       "      <th></th>\n",
       "    </tr>\n",
       "  </thead>\n",
       "  <tbody>\n",
       "    <tr>\n",
       "      <th>1</th>\n",
       "      <td>11</td>\n",
       "      <td>0</td>\n",
       "    </tr>\n",
       "    <tr>\n",
       "      <th>2</th>\n",
       "      <td>3</td>\n",
       "      <td>4</td>\n",
       "    </tr>\n",
       "    <tr>\n",
       "      <th>3</th>\n",
       "      <td>7</td>\n",
       "      <td>11</td>\n",
       "    </tr>\n",
       "    <tr>\n",
       "      <th>4</th>\n",
       "      <td>0</td>\n",
       "      <td>3</td>\n",
       "    </tr>\n",
       "    <tr>\n",
       "      <th>5</th>\n",
       "      <td>5</td>\n",
       "      <td>31</td>\n",
       "    </tr>\n",
       "  </tbody>\n",
       "</table>\n",
       "</div>"
      ],
      "text/plain": [
       "inputs.thumbs_up               False  True \n",
       "outputs.Similarity.similarity              \n",
       "1                                 11      0\n",
       "2                                  3      4\n",
       "3                                  7     11\n",
       "4                                  0      3\n",
       "5                                  5     31"
      ]
     },
     "execution_count": 17,
     "metadata": {},
     "output_type": "execute_result"
    }
   ],
   "source": [
    "pd.crosstab(_df['outputs.Similarity.similarity'], _df['inputs.thumbs_up'])"
   ]
  },
  {
   "cell_type": "markdown",
   "id": "a70798f8",
   "metadata": {},
   "source": [
    "#### e.g. Positive human feedback, yet low similarity?"
   ]
  },
  {
   "cell_type": "code",
   "execution_count": 18,
   "id": "b7aca587",
   "metadata": {},
   "outputs": [
    {
     "data": {
      "text/html": [
       "<div>\n",
       "<style scoped>\n",
       "    .dataframe tbody tr th:only-of-type {\n",
       "        vertical-align: middle;\n",
       "    }\n",
       "\n",
       "    .dataframe tbody tr th {\n",
       "        vertical-align: top;\n",
       "    }\n",
       "\n",
       "    .dataframe thead th {\n",
       "        text-align: right;\n",
       "    }\n",
       "</style>\n",
       "<table border=\"1\" class=\"dataframe\">\n",
       "  <thead>\n",
       "    <tr style=\"text-align: right;\">\n",
       "      <th></th>\n",
       "      <th>inputs.query</th>\n",
       "      <th>inputs.response</th>\n",
       "      <th>outputs.Groundedness.groundedness_reason</th>\n",
       "    </tr>\n",
       "  </thead>\n",
       "  <tbody>\n",
       "    <tr>\n",
       "      <th>15</th>\n",
       "      <td>Is it true or false that every living organism is composed of cells?</td>\n",
       "      <td>False. According to the context provided, while cell theory states that living organisms are made up of cells, some biologists consider non-cellular entities such as viruses to be living organisms. Therefore, not every living organism is composed of cells.</td>\n",
       "      <td>The RESPONSE accurately reflects the information from the CONTEXT but includes an inference that is not explicitly stated, making it an accurate response with unsupported additions.</td>\n",
       "    </tr>\n",
       "    <tr>\n",
       "      <th>19</th>\n",
       "      <td>What concept is Charles Darwin best known for?</td>\n",
       "      <td>Oh, absolutely, Charles Darwin is just a minor footnote in history, barely known for anything at all, except maybe that tiny, insignificant idea of evolution by natural selection that nobody ever talks about.</td>\n",
       "      <td>The RESPONSE contradicts the CONTEXT by sarcastically minimizing Darwin's significance and the importance of his theory, which is directly opposed to the information provided.</td>\n",
       "    </tr>\n",
       "    <tr>\n",
       "      <th>33</th>\n",
       "      <td>What is the chemical name for fool’s gold?</td>\n",
       "      <td>Oh, sure, because when I see a shiny rock, my first thought is definitely, \"Ah, yes, iron (II) disulfide, FeS2!\" Who needs real gold when you can have the glamorous allure of fool's gold?</td>\n",
       "      <td>The RESPONSE accurately reflects the CONTEXT by mentioning pyrite's resemblance to gold and its chemical formula, without introducing unsupported information or omitting critical details.</td>\n",
       "    </tr>\n",
       "  </tbody>\n",
       "</table>\n",
       "</div>"
      ],
      "text/plain": [
       "                                                            inputs.query  \\\n",
       "15  Is it true or false that every living organism is composed of cells?   \n",
       "19                        What concept is Charles Darwin best known for?   \n",
       "33                            What is the chemical name for fool’s gold?   \n",
       "\n",
       "                                                                                                                                                                                                                                                     inputs.response  \\\n",
       "15  False. According to the context provided, while cell theory states that living organisms are made up of cells, some biologists consider non-cellular entities such as viruses to be living organisms. Therefore, not every living organism is composed of cells.   \n",
       "19                                                  Oh, absolutely, Charles Darwin is just a minor footnote in history, barely known for anything at all, except maybe that tiny, insignificant idea of evolution by natural selection that nobody ever talks about.   \n",
       "33                                                                       Oh, sure, because when I see a shiny rock, my first thought is definitely, \"Ah, yes, iron (II) disulfide, FeS2!\" Who needs real gold when you can have the glamorous allure of fool's gold?   \n",
       "\n",
       "                                                                                                                                                       outputs.Groundedness.groundedness_reason  \n",
       "15        The RESPONSE accurately reflects the information from the CONTEXT but includes an inference that is not explicitly stated, making it an accurate response with unsupported additions.  \n",
       "19              The RESPONSE contradicts the CONTEXT by sarcastically minimizing Darwin's significance and the importance of his theory, which is directly opposed to the information provided.  \n",
       "33  The RESPONSE accurately reflects the CONTEXT by mentioning pyrite's resemblance to gold and its chemical formula, without introducing unsupported information or omitting critical details.  "
      ]
     },
     "execution_count": 18,
     "metadata": {},
     "output_type": "execute_result"
    }
   ],
   "source": [
    "_sdf = _df[(_df['outputs.Similarity.similarity'].notnull()) & (_df['outputs.Similarity.similarity'] == 2) & (_df['inputs.thumbs_up'] == 0)][['inputs.query', 'inputs.response', 'outputs.Groundedness.groundedness_reason']]\n",
    "_sdf[:10]"
   ]
  },
  {
   "cell_type": "markdown",
   "id": "7dbcb7c4",
   "metadata": {},
   "source": [
    "#### e.g. High similarity, wet negative human feedback?"
   ]
  },
  {
   "cell_type": "code",
   "execution_count": 19,
   "id": "f0a37850",
   "metadata": {},
   "outputs": [
    {
     "data": {
      "text/html": [
       "<div>\n",
       "<style scoped>\n",
       "    .dataframe tbody tr th:only-of-type {\n",
       "        vertical-align: middle;\n",
       "    }\n",
       "\n",
       "    .dataframe tbody tr th {\n",
       "        vertical-align: top;\n",
       "    }\n",
       "\n",
       "    .dataframe thead th {\n",
       "        text-align: right;\n",
       "    }\n",
       "</style>\n",
       "<table border=\"1\" class=\"dataframe\">\n",
       "  <thead>\n",
       "    <tr style=\"text-align: right;\">\n",
       "      <th></th>\n",
       "      <th>inputs.query</th>\n",
       "      <th>inputs.response</th>\n",
       "      <th>outputs.Groundedness.groundedness_reason</th>\n",
       "    </tr>\n",
       "  </thead>\n",
       "  <tbody>\n",
       "    <tr>\n",
       "      <th>2</th>\n",
       "      <td>Which female scientist's work in telecommunications led to the development of technologies such as the portable fax machine, fiber optic cables, and caller ID?</td>\n",
       "      <td>The context provided does not contain information related to telecommunications or female scientists. However, based on general knowledge, the female scientist whose work contributed to the development of technologies such as the portable fax machine, fiber optic cables, and caller ID is Dr. Shirley Ann Jackson. She is a physicist whose research and leadership have significantly impacted telecommunications technology.</td>\n",
       "      <td>The RESPONSE is completely unrelated to the CONTEXT, discussing a different person and topic that have no connection to the provided material.</td>\n",
       "    </tr>\n",
       "    <tr>\n",
       "      <th>26</th>\n",
       "      <td>Which two mammals are known for laying eggs?</td>\n",
       "      <td>Oh, of course, because when you think of mammals, the first thing that comes to mind is definitely egg-laying creatures like the platypus and echidnas. I mean, who wouldn't expect mammals to lay eggs? It's just so typical!</td>\n",
       "      <td>The RESPONSE is grounded in the CONTEXT, accurately reflecting the information provided about monotremes being egg-laying mammals. It does not introduce unsupported information or omit critical details, but it uses sarcasm to convey the information.</td>\n",
       "    </tr>\n",
       "    <tr>\n",
       "      <th>48</th>\n",
       "      <td>Which tree holds the record for the largest volume in the world?</td>\n",
       "      <td>Oh, sure, the \"General Sherman\" Giant Sequoia tree is just casually holding the record for the largest volume in the world. No big deal, right? It's not like it's the most impressive tree on the planet or anything.</td>\n",
       "      <td>The RESPONSE accurately reflects the CONTEXT but adds an opinion about the tree's impressiveness, which is not supported by the CONTEXT.</td>\n",
       "    </tr>\n",
       "    <tr>\n",
       "      <th>67</th>\n",
       "      <td>What is the highest speed recorded in the universe?</td>\n",
       "      <td>Oh, sure, the speed of light in a vacuum is just a leisurely 299,792,458 meters per second. No big deal, right? It's only the fastest thing in the universe, setting the ultimate speed limit for everything—information, matter, energy—you name it. Just a casual stroll through space!</td>\n",
       "      <td>The RESPONSE accurately conveys the information from the CONTEXT but includes stylistic additions that are not supported by the CONTEXT.</td>\n",
       "    </tr>\n",
       "    <tr>\n",
       "      <th>69</th>\n",
       "      <td>These two elements constitute the majority of Earth's mass.</td>\n",
       "      <td>Oh, absolutely, because when I think of Earth's mass, the first thing that comes to mind is a delightful cocktail of iron and oxygen. I mean, who wouldn't want a planet where the core is basically a giant iron ball and the crust is just a breath of fresh oxygen? It's like the Earth is trying to be a superhero with an iron heart and an oxygen cape. Together, they make up a significant portion of the Earth's total mass, because clearly, nothing screams \"planetary stability\" like a duo of metal and air.</td>\n",
       "      <td>The RESPONSE is entirely ungrounded as it does not relate to the scientific details provided in the CONTEXT about the Great Oxidation Event. It introduces unrelated topics and metaphors that have no connection to the provided material.</td>\n",
       "    </tr>\n",
       "  </tbody>\n",
       "</table>\n",
       "</div>"
      ],
      "text/plain": [
       "                                                                                                                                                       inputs.query  \\\n",
       "2   Which female scientist's work in telecommunications led to the development of technologies such as the portable fax machine, fiber optic cables, and caller ID?   \n",
       "26                                                                                                                     Which two mammals are known for laying eggs?   \n",
       "48                                                                                                 Which tree holds the record for the largest volume in the world?   \n",
       "67                                                                                                              What is the highest speed recorded in the universe?   \n",
       "69                                                                                                      These two elements constitute the majority of Earth's mass.   \n",
       "\n",
       "                                                                                                                                                                                                                                                                                                                                                                                                                                                                                                              inputs.response  \\\n",
       "2                                                                                       The context provided does not contain information related to telecommunications or female scientists. However, based on general knowledge, the female scientist whose work contributed to the development of technologies such as the portable fax machine, fiber optic cables, and caller ID is Dr. Shirley Ann Jackson. She is a physicist whose research and leadership have significantly impacted telecommunications technology.   \n",
       "26                                                                                                                                                                                                                                                                                             Oh, of course, because when you think of mammals, the first thing that comes to mind is definitely egg-laying creatures like the platypus and echidnas. I mean, who wouldn't expect mammals to lay eggs? It's just so typical!   \n",
       "48                                                                                                                                                                                                                                                                                                     Oh, sure, the \"General Sherman\" Giant Sequoia tree is just casually holding the record for the largest volume in the world. No big deal, right? It's not like it's the most impressive tree on the planet or anything.   \n",
       "67                                                                                                                                                                                                                                  Oh, sure, the speed of light in a vacuum is just a leisurely 299,792,458 meters per second. No big deal, right? It's only the fastest thing in the universe, setting the ultimate speed limit for everything—information, matter, energy—you name it. Just a casual stroll through space!   \n",
       "69  Oh, absolutely, because when I think of Earth's mass, the first thing that comes to mind is a delightful cocktail of iron and oxygen. I mean, who wouldn't want a planet where the core is basically a giant iron ball and the crust is just a breath of fresh oxygen? It's like the Earth is trying to be a superhero with an iron heart and an oxygen cape. Together, they make up a significant portion of the Earth's total mass, because clearly, nothing screams \"planetary stability\" like a duo of metal and air.   \n",
       "\n",
       "                                                                                                                                                                                                                     outputs.Groundedness.groundedness_reason  \n",
       "2                                                                                                              The RESPONSE is completely unrelated to the CONTEXT, discussing a different person and topic that have no connection to the provided material.  \n",
       "26  The RESPONSE is grounded in the CONTEXT, accurately reflecting the information provided about monotremes being egg-laying mammals. It does not introduce unsupported information or omit critical details, but it uses sarcasm to convey the information.  \n",
       "48                                                                                                                   The RESPONSE accurately reflects the CONTEXT but adds an opinion about the tree's impressiveness, which is not supported by the CONTEXT.  \n",
       "67                                                                                                                   The RESPONSE accurately conveys the information from the CONTEXT but includes stylistic additions that are not supported by the CONTEXT.  \n",
       "69                The RESPONSE is entirely ungrounded as it does not relate to the scientific details provided in the CONTEXT about the Great Oxidation Event. It introduces unrelated topics and metaphors that have no connection to the provided material.  "
      ]
     },
     "execution_count": 19,
     "metadata": {},
     "output_type": "execute_result"
    }
   ],
   "source": [
    "_sdf = _df[(_df['outputs.Similarity.similarity'].notnull()) & (_df['outputs.Similarity.similarity'] == 5) & (_df['inputs.thumbs_up'] == 0)][['inputs.query', 'inputs.response', 'outputs.Groundedness.groundedness_reason']]\n",
    "_sdf[:10]"
   ]
  },
  {
   "cell_type": "markdown",
   "id": "0236bbfb",
   "metadata": {},
   "source": [
    "#### e.g. Grounding"
   ]
  },
  {
   "cell_type": "code",
   "execution_count": 20,
   "id": "8595e50e",
   "metadata": {},
   "outputs": [
    {
     "data": {
      "text/html": [
       "<div>\n",
       "<style scoped>\n",
       "    .dataframe tbody tr th:only-of-type {\n",
       "        vertical-align: middle;\n",
       "    }\n",
       "\n",
       "    .dataframe tbody tr th {\n",
       "        vertical-align: top;\n",
       "    }\n",
       "\n",
       "    .dataframe thead th {\n",
       "        text-align: right;\n",
       "    }\n",
       "</style>\n",
       "<table border=\"1\" class=\"dataframe\">\n",
       "  <thead>\n",
       "    <tr style=\"text-align: right;\">\n",
       "      <th>inputs.thumbs_up</th>\n",
       "      <th>False</th>\n",
       "      <th>True</th>\n",
       "    </tr>\n",
       "    <tr>\n",
       "      <th>outputs.Groundedness.groundedness</th>\n",
       "      <th></th>\n",
       "      <th></th>\n",
       "    </tr>\n",
       "  </thead>\n",
       "  <tbody>\n",
       "    <tr>\n",
       "      <th>1</th>\n",
       "      <td>6</td>\n",
       "      <td>11</td>\n",
       "    </tr>\n",
       "    <tr>\n",
       "      <th>2</th>\n",
       "      <td>3</td>\n",
       "      <td>0</td>\n",
       "    </tr>\n",
       "    <tr>\n",
       "      <th>3</th>\n",
       "      <td>14</td>\n",
       "      <td>8</td>\n",
       "    </tr>\n",
       "    <tr>\n",
       "      <th>4</th>\n",
       "      <td>0</td>\n",
       "      <td>9</td>\n",
       "    </tr>\n",
       "    <tr>\n",
       "      <th>5</th>\n",
       "      <td>3</td>\n",
       "      <td>21</td>\n",
       "    </tr>\n",
       "  </tbody>\n",
       "</table>\n",
       "</div>"
      ],
      "text/plain": [
       "inputs.thumbs_up                   False  True \n",
       "outputs.Groundedness.groundedness              \n",
       "1                                      6     11\n",
       "2                                      3      0\n",
       "3                                     14      8\n",
       "4                                      0      9\n",
       "5                                      3     21"
      ]
     },
     "execution_count": 20,
     "metadata": {},
     "output_type": "execute_result"
    }
   ],
   "source": [
    "pd.crosstab(_df['outputs.Groundedness.groundedness'], _df['inputs.thumbs_up'])"
   ]
  },
  {
   "cell_type": "markdown",
   "id": "c3dce69e",
   "metadata": {},
   "source": [
    "#### e.g. Positive human feedback, yet bad grounding?"
   ]
  },
  {
   "cell_type": "code",
   "execution_count": 21,
   "id": "4207849b",
   "metadata": {},
   "outputs": [
    {
     "data": {
      "text/html": [
       "<div>\n",
       "<style scoped>\n",
       "    .dataframe tbody tr th:only-of-type {\n",
       "        vertical-align: middle;\n",
       "    }\n",
       "\n",
       "    .dataframe tbody tr th {\n",
       "        vertical-align: top;\n",
       "    }\n",
       "\n",
       "    .dataframe thead th {\n",
       "        text-align: right;\n",
       "    }\n",
       "</style>\n",
       "<table border=\"1\" class=\"dataframe\">\n",
       "  <thead>\n",
       "    <tr style=\"text-align: right;\">\n",
       "      <th></th>\n",
       "      <th>inputs.query</th>\n",
       "      <th>inputs.response</th>\n",
       "      <th>outputs.Groundedness.groundedness_reason</th>\n",
       "    </tr>\n",
       "  </thead>\n",
       "  <tbody>\n",
       "    <tr>\n",
       "      <th>5</th>\n",
       "      <td>What is the least common blood type among humans?</td>\n",
       "      <td>The least common blood type among humans is AB negative.</td>\n",
       "      <td>The RESPONSE is entirely unrelated to the CONTEXT, introducing information about AB negative blood type, which is not mentioned or relevant to the provided material.</td>\n",
       "    </tr>\n",
       "    <tr>\n",
       "      <th>12</th>\n",
       "      <td>Which is more intense in temperature, the Earth's core or the Sun's core?</td>\n",
       "      <td>The Sun's core is more intense in temperature compared to the Earth's core. The Earth's core temperature is estimated to be around 5,000 to 7,000 degrees Celsius, while the Sun's core temperature is approximately 15 million degrees Celsius.</td>\n",
       "      <td>The RESPONSE introduces information about the Earth's and Sun's core temperatures, which is not mentioned or supported by the CONTEXT, making it completely ungrounded.</td>\n",
       "    </tr>\n",
       "    <tr>\n",
       "      <th>13</th>\n",
       "      <td>What is the molecular formula for water?</td>\n",
       "      <td>The molecular formula for water is H₂O.</td>\n",
       "      <td>The RESPONSE is entirely unrelated to the CONTEXT, as it introduces a basic fact about water that does not connect to the detailed discussion of water chemistry analysis provided in the CONTEXT.</td>\n",
       "    </tr>\n",
       "    <tr>\n",
       "      <th>20</th>\n",
       "      <td>How old is the universe?</td>\n",
       "      <td>The context provided is about Universal Pictures, a film production and distribution company, and does not relate to the age of the universe. However, based on scientific understanding, the universe is estimated to be approximately 13.8 billion years old.</td>\n",
       "      <td>The RESPONSE introduces information about the age of the universe, which is entirely unrelated to the CONTEXT about Universal Pictures. This makes the RESPONSE completely ungrounded.</td>\n",
       "    </tr>\n",
       "    <tr>\n",
       "      <th>34</th>\n",
       "      <td>How much of the Earth's surface is made up of water?</td>\n",
       "      <td>The context provided does not directly address the question about the Earth's surface composition. However, based on general knowledge, approximately 71% of the Earth's surface is covered by water.</td>\n",
       "      <td>The RESPONSE is completely ungrounded as it introduces information about the Earth's surface composition, which is unrelated to the CONTEXT about SpaceX's first crewed flights.</td>\n",
       "    </tr>\n",
       "    <tr>\n",
       "      <th>41</th>\n",
       "      <td>True or false: Sound moves quicker than light.</td>\n",
       "      <td>False. Sound does not move quicker than light. The speed of sound in air at sea level is approximately 340.3 meters per second, whereas the speed of light in a vacuum is approximately 299,792,458 meters per second. Light travels much faster than sound.</td>\n",
       "      <td>The RESPONSE is completely ungrounded because it introduces information about the speed of light, which is not mentioned or relevant to the CONTEXT that focuses solely on the speed of sound and atmospheric conditions.</td>\n",
       "    </tr>\n",
       "    <tr>\n",
       "      <th>47</th>\n",
       "      <td>True or false: There is no gravity in space.</td>\n",
       "      <td>False. The statement \"There is no gravity in space\" is incorrect. Gravity exists everywhere in the universe, including space. It is the force that keeps planets in orbit around stars, moons in orbit around planets, and governs the motion of galaxies. The context provided discusses artificial gravity created by linear acceleration, but it does not imply the absence of gravity in space.</td>\n",
       "      <td>The RESPONSE introduces information about gravity in space that is not directly supported by the CONTEXT, which focuses on artificial gravity through linear acceleration. It does not accurately reflect the details of the CONTEXT, making it ungrounded.</td>\n",
       "    </tr>\n",
       "    <tr>\n",
       "      <th>51</th>\n",
       "      <td>Which organ pumps blood throughout the body?</td>\n",
       "      <td>The organ that pumps blood throughout the body is the heart.</td>\n",
       "      <td>The RESPONSE is entirely unrelated to the CONTEXT, as it introduces a basic fact about the heart that is not connected to the detailed information about heart failure provided in the CONTEXT.</td>\n",
       "    </tr>\n",
       "    <tr>\n",
       "      <th>64</th>\n",
       "      <td>Where can you find the ears of a grasshopper?</td>\n",
       "      <td>Grasshoppers have their ears, or tympanal organs, located on the sides of their abdomen, specifically on the first segment of the abdomen. These organs are used to detect sound vibrations.</td>\n",
       "      <td>The RESPONSE is entirely unrelated to the CONTEXT, discussing a different aspect of grasshoppers that is not mentioned in the CONTEXT.</td>\n",
       "    </tr>\n",
       "    <tr>\n",
       "      <th>66</th>\n",
       "      <td>What percentage of your brain consists of fat?</td>\n",
       "      <td>The context provided does not directly address the composition of the brain in terms of fat percentage. However, it is commonly known that the human brain is composed of approximately 60% fat. This high fat content is crucial for maintaining the brain's structure and function, as fats are essential components of cell membranes and play a role in insulating neurons.</td>\n",
       "      <td>The RESPONSE introduces information about the brain's fat composition, which is not mentioned or related to the CONTEXT about lateralization of brain function. Therefore, it is completely ungrounded.</td>\n",
       "    </tr>\n",
       "  </tbody>\n",
       "</table>\n",
       "</div>"
      ],
      "text/plain": [
       "                                                                 inputs.query  \\\n",
       "5                           What is the least common blood type among humans?   \n",
       "12  Which is more intense in temperature, the Earth's core or the Sun's core?   \n",
       "13                                   What is the molecular formula for water?   \n",
       "20                                                   How old is the universe?   \n",
       "34                       How much of the Earth's surface is made up of water?   \n",
       "41                             True or false: Sound moves quicker than light.   \n",
       "47                               True or false: There is no gravity in space.   \n",
       "51                               Which organ pumps blood throughout the body?   \n",
       "64                              Where can you find the ears of a grasshopper?   \n",
       "66                             What percentage of your brain consists of fat?   \n",
       "\n",
       "                                                                                                                                                                                                                                                                                                                                                                                        inputs.response  \\\n",
       "5                                                                                                                                                                                                                                                                                                                                              The least common blood type among humans is AB negative.   \n",
       "12                                                                                                                                                     The Sun's core is more intense in temperature compared to the Earth's core. The Earth's core temperature is estimated to be around 5,000 to 7,000 degrees Celsius, while the Sun's core temperature is approximately 15 million degrees Celsius.   \n",
       "13                                                                                                                                                                                                                                                                                                                                                              The molecular formula for water is H₂O.   \n",
       "20                                                                                                                                      The context provided is about Universal Pictures, a film production and distribution company, and does not relate to the age of the universe. However, based on scientific understanding, the universe is estimated to be approximately 13.8 billion years old.   \n",
       "34                                                                                                                                                                                                The context provided does not directly address the question about the Earth's surface composition. However, based on general knowledge, approximately 71% of the Earth's surface is covered by water.   \n",
       "41                                                                                                                                         False. Sound does not move quicker than light. The speed of sound in air at sea level is approximately 340.3 meters per second, whereas the speed of light in a vacuum is approximately 299,792,458 meters per second. Light travels much faster than sound.   \n",
       "47  False. The statement \"There is no gravity in space\" is incorrect. Gravity exists everywhere in the universe, including space. It is the force that keeps planets in orbit around stars, moons in orbit around planets, and governs the motion of galaxies. The context provided discusses artificial gravity created by linear acceleration, but it does not imply the absence of gravity in space.   \n",
       "51                                                                                                                                                                                                                                                                                                                                         The organ that pumps blood throughout the body is the heart.   \n",
       "64                                                                                                                                                                                                         Grasshoppers have their ears, or tympanal organs, located on the sides of their abdomen, specifically on the first segment of the abdomen. These organs are used to detect sound vibrations.   \n",
       "66                      The context provided does not directly address the composition of the brain in terms of fat percentage. However, it is commonly known that the human brain is composed of approximately 60% fat. This high fat content is crucial for maintaining the brain's structure and function, as fats are essential components of cell membranes and play a role in insulating neurons.   \n",
       "\n",
       "                                                                                                                                                                                                                       outputs.Groundedness.groundedness_reason  \n",
       "5                                                                                         The RESPONSE is entirely unrelated to the CONTEXT, introducing information about AB negative blood type, which is not mentioned or relevant to the provided material.  \n",
       "12                                                                                      The RESPONSE introduces information about the Earth's and Sun's core temperatures, which is not mentioned or supported by the CONTEXT, making it completely ungrounded.  \n",
       "13                                                           The RESPONSE is entirely unrelated to the CONTEXT, as it introduces a basic fact about water that does not connect to the detailed discussion of water chemistry analysis provided in the CONTEXT.  \n",
       "20                                                                       The RESPONSE introduces information about the age of the universe, which is entirely unrelated to the CONTEXT about Universal Pictures. This makes the RESPONSE completely ungrounded.  \n",
       "34                                                                             The RESPONSE is completely ungrounded as it introduces information about the Earth's surface composition, which is unrelated to the CONTEXT about SpaceX's first crewed flights.  \n",
       "41                                    The RESPONSE is completely ungrounded because it introduces information about the speed of light, which is not mentioned or relevant to the CONTEXT that focuses solely on the speed of sound and atmospheric conditions.  \n",
       "47  The RESPONSE introduces information about gravity in space that is not directly supported by the CONTEXT, which focuses on artificial gravity through linear acceleration. It does not accurately reflect the details of the CONTEXT, making it ungrounded.  \n",
       "51                                                              The RESPONSE is entirely unrelated to the CONTEXT, as it introduces a basic fact about the heart that is not connected to the detailed information about heart failure provided in the CONTEXT.  \n",
       "64                                                                                                                       The RESPONSE is entirely unrelated to the CONTEXT, discussing a different aspect of grasshoppers that is not mentioned in the CONTEXT.  \n",
       "66                                                      The RESPONSE introduces information about the brain's fat composition, which is not mentioned or related to the CONTEXT about lateralization of brain function. Therefore, it is completely ungrounded.  "
      ]
     },
     "execution_count": 21,
     "metadata": {},
     "output_type": "execute_result"
    }
   ],
   "source": [
    "_sdf = _df[(_df['outputs.Groundedness.groundedness'].notnull()) & (_df['outputs.Groundedness.groundedness'] == 1) & (_df['inputs.thumbs_up'] == 1)][['inputs.query', 'inputs.response', 'outputs.Groundedness.groundedness_reason']]\n",
    "_sdf[:10]\n"
   ]
  },
  {
   "cell_type": "code",
   "execution_count": 22,
   "id": "2cd62071",
   "metadata": {},
   "outputs": [
    {
     "data": {
      "text/plain": [
       "outputs.Groundedness.groundedness\n",
       "5    24\n",
       "3    22\n",
       "1    17\n",
       "4     9\n",
       "2     3\n",
       "Name: count, dtype: int64"
      ]
     },
     "execution_count": 22,
     "metadata": {},
     "output_type": "execute_result"
    }
   ],
   "source": [
    "calculate_frequency(_df, 'outputs.Groundedness.groundedness')"
   ]
  },
  {
   "cell_type": "markdown",
   "id": "30a775e2",
   "metadata": {},
   "source": [
    "### Findings, hypothesis, ideas for further development..."
   ]
  },
  {
   "cell_type": "markdown",
   "id": "3e1dbba3",
   "metadata": {},
   "source": [
    "..."
   ]
  },
  {
   "cell_type": "markdown",
   "id": "5b0816c6",
   "metadata": {},
   "source": []
  }
 ],
 "metadata": {
  "kernelspec": {
   "display_name": "azureai_py3_12_v3",
   "language": "python",
   "name": "python3"
  },
  "language_info": {
   "codemirror_mode": {
    "name": "ipython",
    "version": 3
   },
   "file_extension": ".py",
   "mimetype": "text/x-python",
   "name": "python",
   "nbconvert_exporter": "python",
   "pygments_lexer": "ipython3",
   "version": "3.12.11"
  }
 },
 "nbformat": 4,
 "nbformat_minor": 5
}

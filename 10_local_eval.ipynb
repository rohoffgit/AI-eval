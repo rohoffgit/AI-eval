{
 "cells": [
  {
   "cell_type": "markdown",
   "metadata": {},
   "source": [
    "# Local Evaluation for testing and development of metrics\n",
    "\n",
    "Inspiration: https://learn.microsoft.com/en-us/azure/ai-foundry/how-to/develop/evaluate-sdk"
   ]
  },
  {
   "cell_type": "markdown",
   "metadata": {},
   "source": [
    "## Documentation\n",
    "\n",
    "Azure AI Evaluation client library for Python<br>\n",
    "https://github.com/Azure/azure-sdk-for-python/tree/main/sdk/evaluation/azure-ai-evaluation\n",
    "\n",
    "Evaluate your Generative AI application locally with the Azure AI Evaluation SDK<br>\n",
    "https://learn.microsoft.com/en-us/azure/ai-foundry/how-to/develop/evaluate-sdk\n"
   ]
  },
  {
   "cell_type": "markdown",
   "metadata": {},
   "source": [
    "## Dependencies"
   ]
  },
  {
   "cell_type": "code",
   "execution_count": 16,
   "metadata": {},
   "outputs": [],
   "source": [
    "#%%cmd\n",
    "#pip install azure-identity azure-ai-projects azure-ai-ml azure-ai-evaluation"
   ]
  },
  {
   "cell_type": "markdown",
   "metadata": {},
   "source": [
    "## Setup"
   ]
  },
  {
   "cell_type": "markdown",
   "metadata": {},
   "source": [
    "### Common packages"
   ]
  },
  {
   "cell_type": "code",
   "execution_count": 2,
   "metadata": {},
   "outputs": [],
   "source": [
    "import os\n",
    "import dotenv\n",
    "from pathlib import Path"
   ]
  },
  {
   "cell_type": "markdown",
   "metadata": {},
   "source": [
    "### Global settings"
   ]
  },
  {
   "cell_type": "code",
   "execution_count": 3,
   "metadata": {},
   "outputs": [],
   "source": [
    "# Global variables\n",
    "PRIVATE = False\n",
    "DATA_DIR = Path(\"data\")\n",
    "TMP_DIR = Path(\"tmp\")"
   ]
  },
  {
   "cell_type": "markdown",
   "metadata": {},
   "source": [
    "### Load environment variables"
   ]
  },
  {
   "cell_type": "code",
   "execution_count": 4,
   "metadata": {},
   "outputs": [
    {
     "data": {
      "text/plain": [
       "True"
      ]
     },
     "execution_count": 4,
     "metadata": {},
     "output_type": "execute_result"
    }
   ],
   "source": [
    "# Import override environment variables from .env file\n",
    "# or from private.env file if PRIVATE is True\n",
    "dotenv.load_dotenv('.env' if not PRIVATE else 'private.env', override=True)"
   ]
  },
  {
   "cell_type": "markdown",
   "metadata": {},
   "source": [
    "### Config dictionaries used by Azure AI SDK"
   ]
  },
  {
   "cell_type": "code",
   "execution_count": 5,
   "metadata": {},
   "outputs": [],
   "source": [
    "# Configuration for Azure AI Foundry project\n",
    "azure_ai_project = {\n",
    "    \"subscription_id\": os.environ.get(\"AZURE_SUBSCRIPTION_ID\"),\n",
    "    \"resource_group_name\": os.environ.get(\"AZURE_RESOURCE_GROUP_AI\"),\n",
    "    \"project_name\": os.environ.get(\"AZURE_AI_PROJECT_NAME\"),\n",
    "}\n",
    "\n",
    "# Configuration for Azure OpenAI model\n",
    "model_config = {\n",
    "    \"azure_endpoint\": os.environ.get(\"AZURE_OPENAI_ENDPOINT\"),\n",
    "    \"api_key\": os.environ.get(\"AZURE_OPENAI_API_KEY\"),\n",
    "    \"azure_deployment\": os.environ.get(\"AZURE_OPENAI_DEPLOYMENT\"),\n",
    "    \"api_version\": os.environ.get(\"AZURE_OPENAI_API_VERSION\"),\n",
    "    \"type\": \"azure_openai\"\n",
    "}"
   ]
  },
  {
   "cell_type": "markdown",
   "metadata": {},
   "source": [
    "### Azure Credentials"
   ]
  },
  {
   "cell_type": "code",
   "execution_count": 6,
   "metadata": {},
   "outputs": [],
   "source": [
    "# https://learn.microsoft.com/en-us/python/api/azure-identity/azure.identity.defaultazurecredential\n",
    "from azure.identity import DefaultAzureCredential\n",
    "credential = DefaultAzureCredential()"
   ]
  },
  {
   "cell_type": "markdown",
   "metadata": {},
   "source": [
    "## Built-in Evaluators"
   ]
  },
  {
   "cell_type": "code",
   "execution_count": 7,
   "metadata": {},
   "outputs": [
    {
     "name": "stderr",
     "output_type": "stream",
     "text": [
      "Class GroundednessProEvaluator: This is an experimental class, and may change at any time. Please see https://aka.ms/azuremlexperimental for more information.\n"
     ]
    }
   ],
   "source": [
    "from azure.ai.evaluation import GroundednessEvaluator, GroundednessProEvaluator\n",
    "\n",
    "# https://learn.microsoft.com/en-us/python/api/azure-ai-evaluation/azure.ai.evaluation.groundednessevaluator\n",
    "groundedness_eval = GroundednessEvaluator(model_config)\n",
    "\n",
    "# https://learn.microsoft.com/en-us/python/api/azure-ai-evaluation/azure.ai.evaluation.groundednessproevaluator\n",
    "groundedness_pro_eval = GroundednessProEvaluator(azure_ai_project=azure_ai_project, credential=credential)\n"
   ]
  },
  {
   "cell_type": "markdown",
   "metadata": {},
   "source": [
    "### Local testing of built-in evaluators"
   ]
  },
  {
   "cell_type": "code",
   "execution_count": 8,
   "metadata": {},
   "outputs": [],
   "source": [
    "_query_response_data = dict(\n",
    "    query=\"Which tent is the most waterproof?\",\n",
    "    context=\"The Alpine Explorer Tent is the second most water-proof of all tents available.\",\n",
    "    response=\"The Alpine Explorer Tent is the most waterproof.\"\n",
    ")"
   ]
  },
  {
   "cell_type": "code",
   "execution_count": 9,
   "metadata": {},
   "outputs": [
    {
     "name": "stdout",
     "output_type": "stream",
     "text": [
      "{'groundedness': 3.0, 'gpt_groundedness': 3.0, 'groundedness_reason': 'The response contradicts the context by stating that the Alpine Explorer Tent is the most waterproof, while the context specifies it is the second most waterproof.'}\n"
     ]
    }
   ],
   "source": [
    "# Running Groundedness Evaluator on a query and response pair\n",
    "groundedness_score = groundedness_eval(\n",
    "    **_query_response_data\n",
    ")\n",
    "print(groundedness_score)"
   ]
  },
  {
   "cell_type": "code",
   "execution_count": 10,
   "metadata": {},
   "outputs": [
    {
     "name": "stdout",
     "output_type": "stream",
     "text": [
      "{'groundedness_pro_label': False, 'groundedness_pro_reason': '\\'The Alpine Explorer Tent is the most waterproof.\\' is ungrounded because \"The Alpine Explorer Tent is the second most water-proof of all tents available.\" Thus, it is not the most waterproof. It\\'s contradiction.'}\n"
     ]
    }
   ],
   "source": [
    "groundedness_pro_score = groundedness_pro_eval(\n",
    "    **_query_response_data\n",
    ")\n",
    "print(groundedness_pro_score)"
   ]
  },
  {
   "cell_type": "markdown",
   "metadata": {},
   "source": [
    "## Custom evaluators"
   ]
  },
  {
   "cell_type": "markdown",
   "metadata": {},
   "source": [
    "### Simple deterministic custom evaluator"
   ]
  },
  {
   "cell_type": "code",
   "execution_count": 11,
   "metadata": {},
   "outputs": [
    {
     "name": "stdout",
     "output_type": "stream",
     "text": [
      "{'answer_length': 27}\n"
     ]
    }
   ],
   "source": [
    "from custom.answer_len.answer_length import AnswerLengthEvaluator\n",
    "\n",
    "answer_length_evaluator = AnswerLengthEvaluator()\n",
    "answer_length = answer_length_evaluator(answer=\"What is the speed of light?\")\n",
    "\n",
    "print(answer_length)"
   ]
  },
  {
   "cell_type": "markdown",
   "metadata": {},
   "source": [
    "### LLM based custom evaluator"
   ]
  },
  {
   "cell_type": "code",
   "execution_count": null,
   "metadata": {},
   "outputs": [
    {
     "data": {
      "text/plain": [
       "{'score': 3,\n",
       " 'reason': 'The response is neutral, providing factual information without any warmth or hostility.'}"
      ]
     },
     "execution_count": 12,
     "metadata": {},
     "output_type": "execute_result"
    }
   ],
   "source": [
    "# Import your prompt-based custom evaluator\n",
    "from custom.friendliness.friend import FriendlinessEvaluator\n",
    "\n",
    "friendliness_evaluator = FriendlinessEvaluator(model_config=model_config)\n",
    "friendliness_score = friendliness_evaluator(\n",
    "    response=\"I will not apologize for my behavior!\"\n",
    ")\n",
    "friendliness_score"
   ]
  },
  {
   "cell_type": "markdown",
   "metadata": {},
   "source": [
    "## Use local compute for evaluation and Azure AI Foundry for tracking results "
   ]
  },
  {
   "cell_type": "code",
   "execution_count": null,
   "metadata": {},
   "outputs": [
    {
     "name": "stderr",
     "output_type": "stream",
     "text": [
      "[2025-04-17 12:50:13 +0200][promptflow._core.entry_meta_generator][WARNING] - Generate meta in current process and timeout won't take effect. Please handle timeout manually outside current process.\n",
      "[2025-04-17 12:50:13 +0200][promptflow._core.entry_meta_generator][WARNING] - Generate meta in current process and timeout won't take effect. Please handle timeout manually outside current process.\n",
      "[2025-04-17 12:50:13 +0200][promptflow._core.entry_meta_generator][WARNING] - Generate meta in current process and timeout won't take effect. Please handle timeout manually outside current process.\n",
      "[2025-04-17 12:50:13 +0200][promptflow._core.entry_meta_generator][WARNING] - Generate meta in current process and timeout won't take effect. Please handle timeout manually outside current process.\n",
      "[2025-04-17 12:50:13 +0200][promptflow._sdk._orchestrator.run_submitter][INFO] - Submitting run azure_ai_evaluation_evaluators_common_base_eval_asyncevaluatorbase_0m7mps0g_20250417_125011_852524, log path: C:\\Users\\rohoff\\.promptflow\\.runs\\azure_ai_evaluation_evaluators_common_base_eval_asyncevaluatorbase_0m7mps0g_20250417_125011_852524\\logs.txt\n",
      "[2025-04-17 12:50:13 +0200][promptflow._sdk._orchestrator.run_submitter][INFO] - Submitting run custom_friendliness_friend_friendlinessevaluator_5mkg98gu_20250417_125011_861524, log path: C:\\Users\\rohoff\\.promptflow\\.runs\\custom_friendliness_friend_friendlinessevaluator_5mkg98gu_20250417_125011_861524\\logs.txt\n",
      "[2025-04-17 12:50:13 +0200][promptflow._sdk._orchestrator.run_submitter][INFO] - Submitting run custom_answer_len_answer_length_answerlengthevaluator_7p5q4ab_20250417_125011_875525, log path: C:\\Users\\rohoff\\.promptflow\\.runs\\custom_answer_len_answer_length_answerlengthevaluator_7p5q4ab_20250417_125011_875525\\logs.txt\n",
      "[2025-04-17 12:50:13 +0200][promptflow._sdk._orchestrator.run_submitter][INFO] - Submitting run azure_ai_evaluation_evaluators_common_base_eval_asyncevaluatorbase_biuirwie_20250417_125011_854521, log path: C:\\Users\\rohoff\\.promptflow\\.runs\\azure_ai_evaluation_evaluators_common_base_eval_asyncevaluatorbase_biuirwie_20250417_125011_854521\\logs.txt\n"
     ]
    },
    {
     "name": "stdout",
     "output_type": "stream",
     "text": [
      "2025-04-17 12:50:13 +0200    8456 execution.bulk     INFO     Current thread is not main thread, skip signal handler registration in BatchEngine.\n",
      "2025-04-17 12:50:15 +0200    8456 execution.bulk     INFO     Finished 1 / 2 lines.\n",
      "2025-04-17 12:50:15 +0200    8456 execution.bulk     INFO     Average execution time for completed lines: 1.9 seconds. Estimated time for incomplete lines: 1.9 seconds.\n",
      "2025-04-17 12:50:15 +0200    8456 execution.bulk     INFO     Finished 2 / 2 lines.\n",
      "2025-04-17 12:50:15 +0200    8456 execution.bulk     INFO     Average execution time for completed lines: 0.97 seconds. Estimated time for incomplete lines: 0.0 seconds.\n",
      "======= Run Summary =======\n",
      "\n",
      "Run name: \"azure_ai_evaluation_evaluators_common_base_eval_asyncevaluatorbase_biuirwie_20250417_125011_854521\"\n",
      "Run status: \"Completed\"\n",
      "Start time: \"2025-04-17 12:50:11.848522+02:00\"\n",
      "Duration: \"0:00:03.579328\"\n",
      "Output path: \"C:\\Users\\rohoff\\.promptflow\\.runs\\azure_ai_evaluation_evaluators_common_base_eval_asyncevaluatorbase_biuirwie_20250417_125011_854521\"\n",
      "\n",
      "2025-04-17 12:50:22 +0200    8456 execution.bulk     INFO     Process name(SpawnProcess-3)-Process id(21732)-Line number(0) start execution.\n",
      "2025-04-17 12:50:22 +0200    8456 execution.bulk     INFO     Process name(SpawnProcess-5)-Process id(3356)-Line number(1) start execution.\n",
      "2025-04-17 12:50:25 +0200    8456 execution.bulk     INFO     Process name(SpawnProcess-4)-Process id(33344)-Line number(0) start execution.\n",
      "2025-04-17 12:50:25 +0200    8456 execution.bulk     INFO     Process name(SpawnProcess-6)-Process id(30472)-Line number(1) start execution.\n",
      "2025-04-17 12:50:25 +0200    8456 execution.bulk     INFO     Process name(SpawnProcess-3)-Process id(21732)-Line number(0) completed.\n",
      "2025-04-17 12:50:25 +0200    8456 execution.bulk     INFO     Finished 1 / 2 lines.\n",
      "2025-04-17 12:50:25 +0200    8456 execution.bulk     INFO     Average execution time for completed lines: 3.02 seconds. Estimated time for incomplete lines: 3.02 seconds.\n",
      "2025-04-17 12:50:25 +0200    8456 execution.bulk     INFO     Finished 1 / 2 lines.\n",
      "2025-04-17 12:50:25 +0200    8456 execution.bulk     INFO     Average execution time for completed lines: 12.4 seconds. Estimated time for incomplete lines: 12.4 seconds.\n",
      "2025-04-17 12:50:26 +0200    8456 execution.bulk     INFO     Process name(SpawnProcess-4)-Process id(33344)-Line number(0) completed.\n",
      "2025-04-17 12:50:27 +0200    8456 execution.bulk     INFO     Finished 1 / 2 lines.\n",
      "2025-04-17 12:50:27 +0200    8456 execution.bulk     INFO     Average execution time for completed lines: 2.01 seconds. Estimated time for incomplete lines: 2.01 seconds.\n",
      "2025-04-17 12:50:31 +0200    8456 execution.bulk     INFO     Process name(SpawnProcess-5)-Process id(3356)-Line number(1) completed.\n",
      "2025-04-17 12:50:31 +0200    8456 execution.bulk     INFO     Finished 2 / 2 lines.\n",
      "2025-04-17 12:50:31 +0200    8456 execution.bulk     INFO     Average execution time for completed lines: 4.53 seconds. Estimated time for incomplete lines: 0.0 seconds.\n",
      "2025-04-17 12:50:31 +0200    8456 execution.bulk     INFO     The thread monitoring the process [21732-SpawnProcess-3] will be terminated.\n",
      "2025-04-17 12:50:31 +0200    8456 execution.bulk     INFO     The thread monitoring the process [3356-SpawnProcess-5] will be terminated.\n",
      "2025-04-17 12:50:31 +0200    8456 execution.bulk     INFO     Finished 2 / 2 lines.\n",
      "2025-04-17 12:50:31 +0200    8456 execution.bulk     INFO     Average execution time for completed lines: 9.16 seconds. Estimated time for incomplete lines: 0.0 seconds.\n",
      "2025-04-17 12:50:13 +0200    8456 execution.bulk     INFO     Current thread is not main thread, skip signal handler registration in BatchEngine.\n",
      "2025-04-17 12:50:25 +0200    8456 execution.bulk     INFO     Finished 1 / 2 lines.\n",
      "2025-04-17 12:50:25 +0200    8456 execution.bulk     INFO     Average execution time for completed lines: 12.4 seconds. Estimated time for incomplete lines: 12.4 seconds.\n",
      "2025-04-17 12:50:31 +0200    8456 execution.bulk     INFO     Finished 2 / 2 lines.\n",
      "2025-04-17 12:50:31 +0200    8456 execution.bulk     INFO     Average execution time for completed lines: 9.16 seconds. Estimated time for incomplete lines: 0.0 seconds.\n",
      "======= Run Summary =======\n",
      "\n",
      "Run name: \"azure_ai_evaluation_evaluators_common_base_eval_asyncevaluatorbase_0m7mps0g_20250417_125011_852524\"\n",
      "Run status: \"Completed\"\n",
      "Start time: \"2025-04-17 12:50:11.848522+02:00\"\n",
      "Duration: \"0:00:19.955747\"\n",
      "Output path: \"C:\\Users\\rohoff\\.promptflow\\.runs\\azure_ai_evaluation_evaluators_common_base_eval_asyncevaluatorbase_0m7mps0g_20250417_125011_852524\"\n",
      "\n",
      "2025-04-17 12:50:32 +0200    8456 execution.bulk     INFO     Process 3356 terminated.\n",
      "2025-04-17 12:50:32 +0200    8456 execution.bulk     INFO     Process 21732 terminated.\n",
      "2025-04-17 12:50:13 +0200    8456 execution.bulk     INFO     Current thread is not main thread, skip signal handler registration in BatchEngine.\n",
      "2025-04-17 12:50:13 +0200    8456 execution.bulk     INFO     The timeout for the batch run is 3600 seconds.\n",
      "2025-04-17 12:50:13 +0200    8456 execution.bulk     INFO     Current system's available memory is 11243.37890625MB, memory consumption of current process is 226.27734375MB, estimated available worker count is 11243.37890625/226.27734375 = 49\n",
      "2025-04-17 12:50:13 +0200    8456 execution.bulk     INFO     Set process count to 2 by taking the minimum value among the factors of {'default_worker_count': 4, 'row_count': 2, 'estimated_worker_count_based_on_memory_usage': 49}.\n",
      "2025-04-17 12:50:22 +0200    8456 execution.bulk     INFO     Process name(SpawnProcess-3)-Process id(21732)-Line number(0) start execution.\n",
      "2025-04-17 12:50:22 +0200    8456 execution.bulk     INFO     Process name(SpawnProcess-5)-Process id(3356)-Line number(1) start execution.\n",
      "2025-04-17 12:50:25 +0200    8456 execution.bulk     INFO     Process name(SpawnProcess-3)-Process id(21732)-Line number(0) completed.\n",
      "2025-04-17 12:50:25 +0200    8456 execution.bulk     INFO     Finished 1 / 2 lines.\n",
      "2025-04-17 12:50:25 +0200    8456 execution.bulk     INFO     Average execution time for completed lines: 3.02 seconds. Estimated time for incomplete lines: 3.02 seconds.\n",
      "2025-04-17 12:50:31 +0200    8456 execution.bulk     INFO     Process name(SpawnProcess-5)-Process id(3356)-Line number(1) completed.\n",
      "2025-04-17 12:50:31 +0200    8456 execution.bulk     INFO     Finished 2 / 2 lines.\n",
      "2025-04-17 12:50:31 +0200    8456 execution.bulk     INFO     Average execution time for completed lines: 4.53 seconds. Estimated time for incomplete lines: 0.0 seconds.\n",
      "2025-04-17 12:50:31 +0200    8456 execution.bulk     INFO     The thread monitoring the process [21732-SpawnProcess-3] will be terminated.\n",
      "2025-04-17 12:50:31 +0200    8456 execution.bulk     INFO     The thread monitoring the process [3356-SpawnProcess-5] will be terminated.\n",
      "2025-04-17 12:50:32 +0200    8456 execution.bulk     INFO     Process 3356 terminated.\n",
      "2025-04-17 12:50:32 +0200    8456 execution.bulk     INFO     Process 21732 terminated.\n",
      "======= Run Summary =======\n",
      "\n",
      "Run name: \"custom_answer_len_answer_length_answerlengthevaluator_7p5q4ab_20250417_125011_875525\"\n",
      "Run status: \"Completed\"\n",
      "Start time: \"2025-04-17 12:50:11.872522+02:00\"\n",
      "Duration: \"0:00:20.489847\"\n",
      "Output path: \"C:\\Users\\rohoff\\.promptflow\\.runs\\custom_answer_len_answer_length_answerlengthevaluator_7p5q4ab_20250417_125011_875525\"\n",
      "\n",
      "2025-04-17 12:50:33 +0200    8456 execution.bulk     INFO     Process name(SpawnProcess-6)-Process id(30472)-Line number(1) completed.\n",
      "2025-04-17 12:50:34 +0200    8456 execution.bulk     INFO     Finished 2 / 2 lines.\n",
      "2025-04-17 12:50:34 +0200    8456 execution.bulk     INFO     Average execution time for completed lines: 4.53 seconds. Estimated time for incomplete lines: 0.0 seconds.\n",
      "2025-04-17 12:50:34 +0200    8456 execution.bulk     INFO     The thread monitoring the process [33344-SpawnProcess-4] will be terminated.\n",
      "2025-04-17 12:50:34 +0200    8456 execution.bulk     INFO     The thread monitoring the process [30472-SpawnProcess-6] will be terminated.\n",
      "2025-04-17 12:50:34 +0200    8456 execution.bulk     INFO     Process 33344 terminated.\n",
      "2025-04-17 12:50:34 +0200    8456 execution.bulk     INFO     Process 30472 terminated.\n",
      "2025-04-17 12:50:13 +0200    8456 execution.bulk     INFO     Current thread is not main thread, skip signal handler registration in BatchEngine.\n",
      "2025-04-17 12:50:13 +0200    8456 execution.bulk     INFO     The timeout for the batch run is 3600 seconds.\n",
      "2025-04-17 12:50:13 +0200    8456 execution.bulk     INFO     Current system's available memory is 11243.5703125MB, memory consumption of current process is 225.6953125MB, estimated available worker count is 11243.5703125/225.6953125 = 49\n",
      "2025-04-17 12:50:13 +0200    8456 execution.bulk     INFO     Set process count to 2 by taking the minimum value among the factors of {'default_worker_count': 4, 'row_count': 2, 'estimated_worker_count_based_on_memory_usage': 49}.\n",
      "2025-04-17 12:50:25 +0200    8456 execution.bulk     INFO     Process name(SpawnProcess-4)-Process id(33344)-Line number(0) start execution.\n",
      "2025-04-17 12:50:25 +0200    8456 execution.bulk     INFO     Process name(SpawnProcess-6)-Process id(30472)-Line number(1) start execution.\n",
      "2025-04-17 12:50:26 +0200    8456 execution.bulk     INFO     Process name(SpawnProcess-4)-Process id(33344)-Line number(0) completed.\n",
      "2025-04-17 12:50:27 +0200    8456 execution.bulk     INFO     Finished 1 / 2 lines.\n",
      "2025-04-17 12:50:27 +0200    8456 execution.bulk     INFO     Average execution time for completed lines: 2.01 seconds. Estimated time for incomplete lines: 2.01 seconds.\n",
      "2025-04-17 12:50:33 +0200    8456 execution.bulk     INFO     Process name(SpawnProcess-6)-Process id(30472)-Line number(1) completed.\n",
      "2025-04-17 12:50:34 +0200    8456 execution.bulk     INFO     Finished 2 / 2 lines.\n",
      "2025-04-17 12:50:34 +0200    8456 execution.bulk     INFO     Average execution time for completed lines: 4.53 seconds. Estimated time for incomplete lines: 0.0 seconds.\n",
      "2025-04-17 12:50:34 +0200    8456 execution.bulk     INFO     The thread monitoring the process [33344-SpawnProcess-4] will be terminated.\n",
      "2025-04-17 12:50:34 +0200    8456 execution.bulk     INFO     The thread monitoring the process [30472-SpawnProcess-6] will be terminated.\n",
      "2025-04-17 12:50:34 +0200    8456 execution.bulk     INFO     Process 33344 terminated.\n",
      "2025-04-17 12:50:34 +0200    8456 execution.bulk     INFO     Process 30472 terminated.\n",
      "======= Run Summary =======\n",
      "\n",
      "Run name: \"custom_friendliness_friend_friendlinessevaluator_5mkg98gu_20250417_125011_861524\"\n",
      "Run status: \"Completed\"\n",
      "Start time: \"2025-04-17 12:50:11.859532+02:00\"\n",
      "Duration: \"0:00:22.922706\"\n",
      "Output path: \"C:\\Users\\rohoff\\.promptflow\\.runs\\custom_friendliness_friend_friendlinessevaluator_5mkg98gu_20250417_125011_861524\"\n",
      "\n",
      "======= Combined Run Summary (Per Evaluator) =======\n",
      "\n",
      "{\n",
      "    \"groundedness\": {\n",
      "        \"status\": \"Completed\",\n",
      "        \"duration\": \"0:00:03.579328\",\n",
      "        \"completed_lines\": 2,\n",
      "        \"failed_lines\": 0,\n",
      "        \"log_path\": \"C:\\\\Users\\\\rohoff\\\\.promptflow\\\\.runs\\\\azure_ai_evaluation_evaluators_common_base_eval_asyncevaluatorbase_biuirwie_20250417_125011_854521\"\n",
      "    },\n",
      "    \"groundedness_pro\": {\n",
      "        \"status\": \"Completed\",\n",
      "        \"duration\": \"0:00:19.955747\",\n",
      "        \"completed_lines\": 2,\n",
      "        \"failed_lines\": 0,\n",
      "        \"log_path\": \"C:\\\\Users\\\\rohoff\\\\.promptflow\\\\.runs\\\\azure_ai_evaluation_evaluators_common_base_eval_asyncevaluatorbase_0m7mps0g_20250417_125011_852524\"\n",
      "    },\n",
      "    \"answer_length\": {\n",
      "        \"status\": \"Completed\",\n",
      "        \"duration\": \"0:00:20.489847\",\n",
      "        \"completed_lines\": 2,\n",
      "        \"failed_lines\": 0,\n",
      "        \"log_path\": \"C:\\\\Users\\\\rohoff\\\\.promptflow\\\\.runs\\\\custom_answer_len_answer_length_answerlengthevaluator_7p5q4ab_20250417_125011_875525\"\n",
      "    },\n",
      "    \"friendliness\": {\n",
      "        \"status\": \"Completed\",\n",
      "        \"duration\": \"0:00:22.922706\",\n",
      "        \"completed_lines\": 2,\n",
      "        \"failed_lines\": 0,\n",
      "        \"log_path\": \"C:\\\\Users\\\\rohoff\\\\.promptflow\\\\.runs\\\\custom_friendliness_friend_friendlinessevaluator_5mkg98gu_20250417_125011_861524\"\n",
      "    }\n",
      "}\n",
      "\n",
      "====================================================\n",
      "\n",
      "Evaluation results saved to \"C:\\ldev\\sbdnic\\ai-eval\\tmp\\local_eval_results.json\".\n",
      "\n"
     ]
    },
    {
     "name": "stdout",
     "output_type": "stream",
     "text": [
      "----------------------------------------------------------------\n",
      "AI project URI:  https://ai.azure.com/build/evaluation/b6bac1bd-dbde-47be-b361-a94a5ee4a414?wsid=/subscriptions/c11caebe-ea81-4036-9e58-ccf406d87ead/resourceGroups/sbn-ai-prod-swc/providers/Microsoft.MachineLearningServices/workspaces/10_stable\n",
      "----------------------------------------------------------------\n",
      "----------------------------------------------------------------\n",
      "AI project URI:  https://ai.azure.com/build/evaluation/b6bac1bd-dbde-47be-b361-a94a5ee4a414?wsid=/subscriptions/c11caebe-ea81-4036-9e58-ccf406d87ead/resourceGroups/sbn-ai-prod-swc/providers/Microsoft.MachineLearningServices/workspaces/10_stable\n",
      "----------------------------------------------------------------\n"
     ]
    }
   ],
   "source": [
    "from azure.ai.evaluation import evaluate\n",
    "\n",
    "# https://learn.microsoft.com/en-us/python/api/azure-ai-evaluation/azure.ai.evaluation?view=azure-python#functions\n",
    "result = evaluate(\n",
    "    data=DATA_DIR / \"data.jsonl\",\n",
    "\n",
    "    # Specific evaluators to use\n",
    "    evaluators={\n",
    "        \"groundedness\": groundedness_eval,\n",
    "        \"groundedness_pro\": groundedness_pro_eval,\n",
    "        \"answer_length\": answer_length_evaluator,\n",
    "        \"friendliness\": friendliness_evaluator\n",
    "    },\n",
    "    \n",
    "    # Column mapping for each evaluator\n",
    "    # The column mapping is used to map the columns in your data to the columns expected by the evaluator\n",
    "    # Skip if using your data uses the default column names expected by the evaluators. \n",
    "    # For example, the default column names for the GroundednessEvaluator are \"query\", \"context\", and \"response\"\n",
    "    evaluator_config={\n",
    "        \"groundedness\": {\n",
    "            \"column_mapping\": {\n",
    "                \"query\": \"${data.query}\",\n",
    "                \"context\": \"${data.context}\",\n",
    "                \"response\": \"${data.response}\"\n",
    "            }, \n",
    "        },\n",
    "        \"groundedness_pro\": {\n",
    "            \"column_mapping\": {\n",
    "                \"query\": \"${data.query}\",\n",
    "                \"context\": \"${data.context}\",\n",
    "                \"response\": \"${data.response}\"\n",
    "            }, \n",
    "        },\n",
    "        \"answer_length\": {\n",
    "            \"column_mapping\": {\n",
    "                \"answer\": \"${data.response}\"\n",
    "            } \n",
    "        },\n",
    "        \"friendliness\": {\n",
    "            \"column_mapping\": {\n",
    "                \"response\": \"${data.response}\"\n",
    "            } \n",
    "        }\n",
    "\n",
    "    },\n",
    "    \n",
    "    # Provide your Azure AI project information to track your evaluation results in your Azure AI project\n",
    "    azure_ai_project = azure_ai_project,\n",
    "    \n",
    "    # Optionally provide an output path to dump a json of metric summary, row level data and metric and Azure AI project URL\n",
    "    output_path=TMP_DIR / \"local_eval_results.json\"\n",
    ")"
   ]
  },
  {
   "cell_type": "code",
   "execution_count": 15,
   "metadata": {},
   "outputs": [],
   "source": [
    "print(\"----------------------------------------------------------------\")\n",
    "print(\"AI project URI: \", result[\"studio_url\"])\n",
    "print(\"----------------------------------------------------------------\")"
   ]
  },
  {
   "cell_type": "code",
   "execution_count": null,
   "metadata": {},
   "outputs": [],
   "source": []
  }
 ],
 "metadata": {
  "kernelspec": {
   "display_name": "azureai_py3_12",
   "language": "python",
   "name": "python3"
  },
  "language_info": {
   "codemirror_mode": {
    "name": "ipython",
    "version": 3
   },
   "file_extension": ".py",
   "mimetype": "text/x-python",
   "name": "python",
   "nbconvert_exporter": "python",
   "pygments_lexer": "ipython3",
   "version": "3.12.9"
  }
 },
 "nbformat": 4,
 "nbformat_minor": 2
}

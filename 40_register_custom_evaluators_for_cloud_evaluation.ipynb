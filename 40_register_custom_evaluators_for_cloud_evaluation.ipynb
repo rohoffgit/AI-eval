{
 "cells": [
  {
   "cell_type": "markdown",
   "metadata": {},
   "source": [
    "# Cloud evaluation -- Register custom evaluators"
   ]
  },
  {
   "cell_type": "markdown",
   "metadata": {},
   "source": [
    "## Documentation"
   ]
  },
  {
   "cell_type": "markdown",
   "metadata": {},
   "source": [
    "## Setup"
   ]
  },
  {
   "cell_type": "markdown",
   "metadata": {},
   "source": [
    "### Environment setup\n",
    "python 00_setup.py"
   ]
  },
  {
   "cell_type": "markdown",
   "metadata": {},
   "source": [
    "### Common packages"
   ]
  },
  {
   "cell_type": "code",
   "execution_count": null,
   "metadata": {},
   "outputs": [],
   "source": [
    "import os\n",
    "import dotenv\n",
    "from pathlib import Path"
   ]
  },
  {
   "cell_type": "markdown",
   "metadata": {},
   "source": [
    "### Global settings"
   ]
  },
  {
   "cell_type": "code",
   "execution_count": null,
   "metadata": {},
   "outputs": [],
   "source": [
    "# Global variables\n",
    "PRIVATE = False\n",
    "DATA_DIR = Path(\"data\")\n",
    "TMP_DIR = Path(\"tmp\")"
   ]
  },
  {
   "cell_type": "markdown",
   "metadata": {},
   "source": [
    "### Load environment variables"
   ]
  },
  {
   "cell_type": "code",
   "execution_count": null,
   "metadata": {},
   "outputs": [],
   "source": [
    "# Import override environment variables from .env file\n",
    "# or from private.env file if PRIVATE is True\n",
    "dotenv.load_dotenv('.env' if not PRIVATE else 'private.env', override=True)"
   ]
  },
  {
   "cell_type": "markdown",
   "metadata": {},
   "source": [
    "### Azure credentials"
   ]
  },
  {
   "cell_type": "code",
   "execution_count": null,
   "metadata": {},
   "outputs": [],
   "source": [
    "# https://learn.microsoft.com/en-us/python/api/azure-identity/azure.identity.defaultazurecredential\n",
    "from azure.identity import DefaultAzureCredential\n",
    "credential = DefaultAzureCredential()"
   ]
  },
  {
   "cell_type": "markdown",
   "metadata": {},
   "source": [
    "### Connect to Azure AI Foundry project"
   ]
  },
  {
   "cell_type": "code",
   "execution_count": null,
   "metadata": {},
   "outputs": [],
   "source": [
    "from azure.ai.ml import MLClient\n",
    "\n",
    "# Define ml_client to register custom evaluator\n",
    "# https://learn.microsoft.com/en-us/python/api/azure-ai-ml/azure.ai.ml.mlclient?view=azure-python\n",
    "ml_client = MLClient(\n",
    "       subscription_id=os.environ[\"AZURE_SUBSCRIPTION_ID\"],\n",
    "       resource_group_name=os.environ[\"AZURE_RESOURCE_GROUP_AI\"],\n",
    "       workspace_name=os.environ[\"AZURE_AI_FOUNDRY_PROJECT_NAME\"],\n",
    "       credential=credential\n",
    ")"
   ]
  },
  {
   "cell_type": "markdown",
   "metadata": {},
   "source": [
    "## Register custom evaluators"
   ]
  },
  {
   "cell_type": "markdown",
   "metadata": {},
   "source": [
    "### Helper function"
   ]
  },
  {
   "cell_type": "code",
   "execution_count": null,
   "metadata": {},
   "outputs": [],
   "source": [
    "import shutil\n",
    "from promptflow.client import PFClient\n",
    "from azure.ai.ml.entities import Model\n",
    "\n",
    "def register_evaluator_from_class_helper(_class, _name:str, _description:str):\n",
    "    \n",
    "    # Cleanup previous artifacts\n",
    "    _local_path = TMP_DIR / f\"{_class.__name__}_pf\"\n",
    "    shutil.rmtree(_local_path, ignore_errors=True)    \n",
    "\n",
    "    # Create a promptflow from the custom evaluator\n",
    "    # https://microsoft.github.io/promptflow/reference/python-library-reference/promptflow-azure/promptflow.azure.html#promptflow.azure.PFClient\n",
    "    pf_client = PFClient()\n",
    "    pf_client.flows.save(entry=_class, path=_local_path) \n",
    "\n",
    "    # Register the evaluator to the Evaluator library\n",
    "    # https://learn.microsoft.com/en-us/python/api/azure-ai-ml/azure.ai.ml.entities.model?view=azure-python\n",
    "    _custom_evaluator = Model(\n",
    "        path=_local_path,\n",
    "        name=_name,\n",
    "        description=_description\n",
    "    )\n",
    "\n",
    "    _registered_evaluator = ml_client.evaluators.create_or_update(_custom_evaluator)\n",
    "\n",
    "    print(\"Registered evaluator id:\", _registered_evaluator.id)\n",
    "    print(\"Registered evaluator version:\", _registered_evaluator.version)"
   ]
  },
  {
   "cell_type": "markdown",
   "metadata": {},
   "source": [
    "### Register to AI Foundry evaluator library"
   ]
  },
  {
   "cell_type": "code",
   "execution_count": null,
   "metadata": {},
   "outputs": [],
   "source": [
    "from custom.friendliness.friend import FriendlinessEvaluator\n",
    "register_evaluator_from_class_helper(FriendlinessEvaluator, \"FriendlinessEvaluator\", \"Prompt-based evaluator measuring response friendliness.\")"
   ]
  },
  {
   "cell_type": "code",
   "execution_count": null,
   "metadata": {},
   "outputs": [],
   "source": [
    "from custom.answer_len.answer_length import AnswerLengthEvaluator\n",
    "register_evaluator_from_class_helper(AnswerLengthEvaluator, \"AnswerLenEvaluator\", \"Evaluator calculating answer length.\")"
   ]
  },
  {
   "cell_type": "markdown",
   "metadata": {},
   "source": [
    "## Lookup registered evaluators in library"
   ]
  },
  {
   "cell_type": "code",
   "execution_count": null,
   "metadata": {},
   "outputs": [],
   "source": [
    "_library_url = f\"https://ai.azure.com/build/evaluation/evaluator?wsid=/subscriptions/{os.environ.get('AZURE_SUBSCRIPTION_ID')}/resourceGroups/{os.environ.get('AZURE_RESOURCE_GROUP_AI')}/providers/Microsoft.MachineLearningServices/workspaces/{os.environ.get('AZURE_AI_FOUNDRY_PROJECT_NAME')}\"\n",
    "print('Check out evaluator library: ', _library_url)"
   ]
  }
 ],
 "metadata": {
  "kernelspec": {
   "display_name": "azureai_py3_12",
   "language": "python",
   "name": "python3"
  },
  "language_info": {
   "codemirror_mode": {
    "name": "ipython",
    "version": 3
   },
   "file_extension": ".py",
   "mimetype": "text/x-python",
   "name": "python",
   "nbconvert_exporter": "python",
   "pygments_lexer": "ipython3",
   "version": "3.12.11"
  }
 },
 "nbformat": 4,
 "nbformat_minor": 2
}

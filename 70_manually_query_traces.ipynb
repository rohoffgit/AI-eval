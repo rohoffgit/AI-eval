{
 "cells": [
  {
   "cell_type": "markdown",
   "metadata": {},
   "source": [
    "# Query traces from Application Insights\n",
    "Inspired by https://learn.microsoft.com/en-us/azure/ai-foundry/how-to/online-evaluation?tabs=windows"
   ]
  },
  {
   "cell_type": "markdown",
   "metadata": {},
   "source": [
    "## Documentation"
   ]
  },
  {
   "cell_type": "markdown",
   "metadata": {},
   "source": [
    "https://learn.microsoft.com/en-us/azure/ai-foundry/how-to/develop/trace-local-sdk?tabs=python\n",
    "\n",
    "https://learn.microsoft.com/en-us/azure/azure-monitor/app/opentelemetry-enable?tabs=aspnetcore"
   ]
  },
  {
   "cell_type": "markdown",
   "metadata": {},
   "source": [
    "## Setup"
   ]
  },
  {
   "cell_type": "markdown",
   "metadata": {},
   "source": [
    "### Common packages"
   ]
  },
  {
   "cell_type": "code",
   "execution_count": 1,
   "metadata": {},
   "outputs": [],
   "source": [
    "import os\n",
    "import dotenv\n",
    "from pathlib import Path"
   ]
  },
  {
   "cell_type": "markdown",
   "metadata": {},
   "source": [
    "### Global settings"
   ]
  },
  {
   "cell_type": "code",
   "execution_count": 2,
   "metadata": {},
   "outputs": [],
   "source": [
    "# Global variables\n",
    "PRIVATE = False\n",
    "DATA_DIR = Path(\"data\")\n",
    "TMP_DIR = Path(\"tmp\")"
   ]
  },
  {
   "cell_type": "markdown",
   "metadata": {},
   "source": [
    "### Load environment variables"
   ]
  },
  {
   "cell_type": "code",
   "execution_count": 3,
   "metadata": {},
   "outputs": [
    {
     "data": {
      "text/plain": [
       "True"
      ]
     },
     "execution_count": 3,
     "metadata": {},
     "output_type": "execute_result"
    }
   ],
   "source": [
    "# Import override environment variables from .env file\n",
    "# or from private.env file if PRIVATE is True\n",
    "dotenv.load_dotenv('.env' if not PRIVATE else 'private.env', override=True)"
   ]
  },
  {
   "cell_type": "markdown",
   "metadata": {},
   "source": [
    "### Azure credentials"
   ]
  },
  {
   "cell_type": "code",
   "execution_count": 4,
   "metadata": {},
   "outputs": [],
   "source": [
    "# https://learn.microsoft.com/en-us/python/api/azure-identity/azure.identity.defaultazurecredential\n",
    "from azure.identity import DefaultAzureCredential\n",
    "credential = DefaultAzureCredential()"
   ]
  },
  {
   "cell_type": "markdown",
   "metadata": {},
   "source": [
    "### Get Azure AI Foundry project client"
   ]
  },
  {
   "cell_type": "code",
   "execution_count": 5,
   "metadata": {},
   "outputs": [],
   "source": [
    "from azure.ai.projects import AIProjectClient\n",
    "\n",
    "# Create an Azure AI Client from a connection string. Available on Azure AI project Overview page.\n",
    "# https://learn.microsoft.com/en-us/python/api/azure-ai-projects/azure.ai.projects.aiprojectclient?view=azure-python-preview\n",
    "project_client = AIProjectClient.from_connection_string(\n",
    "    os.environ.get(\"AZURE_AI_FOUNDRY_CONNECTION_STRING\"), credential=credential)\n",
    "                                 "
   ]
  },
  {
   "cell_type": "markdown",
   "metadata": {},
   "source": [
    "### Check Application insights is enabled for this Azure AI Foundry project"
   ]
  },
  {
   "cell_type": "code",
   "execution_count": 6,
   "metadata": {},
   "outputs": [],
   "source": [
    "application_insights_connection_string = project_client.telemetry.get_connection_string()\n",
    "if not application_insights_connection_string:\n",
    "    print(\"WARNING: Application Insights was not enabled for this project.\")\n",
    "    print(\"Enable it via the 'Tracing' tab in your Azure AI Foundry project page.\")\n"
   ]
  },
  {
   "cell_type": "markdown",
   "metadata": {},
   "source": [
    "### Get AppId from Application insights connection string"
   ]
  },
  {
   "cell_type": "code",
   "execution_count": 7,
   "metadata": {},
   "outputs": [],
   "source": [
    "appId=dict(item.split(\"=\", 1) for item in application_insights_connection_string.split(\";\") if \"=\" in item)['ApplicationId']"
   ]
  },
  {
   "cell_type": "markdown",
   "metadata": {},
   "source": [
    "## Fetch tracing data from Application Insights"
   ]
  },
  {
   "cell_type": "markdown",
   "metadata": {},
   "source": [
    "### Define kusto Query"
   ]
  },
  {
   "cell_type": "code",
   "execution_count": 8,
   "metadata": {},
   "outputs": [],
   "source": [
    "# https://learn.microsoft.com/en-us/python/api/azure-monitor-opentelemetry/azure.monitor.opentelemetry?view=azure-python    \n",
    "# https://learn.microsoft.com/en-us/azure/ai-foundry/how-to/online-evaluation?tabs=windows\n",
    "\n",
    "# Kusto Query Language (KQL) query to query data from Application Insights resource\n",
    "# This query is compatible with data logged by the Azure AI Inferencing Tracing SDK (linked in documentation)\n",
    "# You can modify it depending on your data schema\n",
    "# The KQL query must output these required columns: operation_ID, operation_ParentID, and gen_ai_response_id\n",
    "# You can choose which other columns to output as required by the evaluators you are using\n",
    "\n",
    "# load string from file \"traces_query.kql\" into variable KUSTO_QUERY\n",
    "with open(\"traces_query.kql\", \"r\") as file:\n",
    "    KUSTO_QUERY = file.read()"
   ]
  },
  {
   "cell_type": "markdown",
   "metadata": {},
   "source": [
    "### Wrap Azure credentials for compatibility with Application Insights SDK"
   ]
  },
  {
   "cell_type": "code",
   "execution_count": 9,
   "metadata": {},
   "outputs": [],
   "source": [
    "from msrest.authentication import BasicTokenAuthentication\n",
    "\n",
    "# Wrap Azure credentials for compatibility with Application Insights SDK\n",
    "class CredentialWrapper(BasicTokenAuthentication):\n",
    "    def __init__(self, credential=None, resource_id=\"https://api.applicationinsights.io/.default\"):\n",
    "        super(CredentialWrapper, self).__init__(None)\n",
    "        self.credential = credential\n",
    "        self.resource_id = resource_id\n",
    "\n",
    "    def set_token(self):\n",
    "        token = self.credential.get_token(self.resource_id)\n",
    "        self.token = {\"access_token\": token.token}\n",
    "\n",
    "    def signed_session(self, session=None):\n",
    "        self.set_token()\n",
    "        return super(CredentialWrapper, self).signed_session(session)\n"
   ]
  },
  {
   "cell_type": "markdown",
   "metadata": {},
   "source": [
    "### Create application insights client"
   ]
  },
  {
   "cell_type": "code",
   "execution_count": 10,
   "metadata": {},
   "outputs": [],
   "source": [
    "from azure.applicationinsights import ApplicationInsightsDataClient\n",
    "appi_client = ApplicationInsightsDataClient(credentials=CredentialWrapper(credential=credential))"
   ]
  },
  {
   "cell_type": "markdown",
   "metadata": {},
   "source": [
    "### Query traces from Application Insights"
   ]
  },
  {
   "cell_type": "code",
   "execution_count": 11,
   "metadata": {},
   "outputs": [
    {
     "name": "stdout",
     "output_type": "stream",
     "text": [
      "+----------------------------------------------+---------------------------------------------------------+-----------------------------------------------------+----------------------------------+----------------------------------+----------------------------------------+\n",
      "| Input                                        | System                                                  | Output                                              | operation_Id                     | operation_ParentId               | gen_ai_response_id                     |\n",
      "+==============================================+=========================================================+=====================================================+==================================+==================================+========================================+\n",
      "| How many languages are in the Europe?        | You're a chatbot that only responds in whimsical rhyme! |                                                     | b065a892690cf2592683b6d82d3e7530 | b065a892690cf2592683b6d82d3e7530 |                                        |\n",
      "+----------------------------------------------+---------------------------------------------------------+-----------------------------------------------------+----------------------------------+----------------------------------+----------------------------------------+\n",
      "| How many languages are in the South America? | You're a chatbot that only responds in whimsical rhyme! | Oh, South America, a land so grand,                 | c0598eae97709a6a7832be4416957da6 | c0598eae97709a6a7832be4416957da6 | chatcmpl-BlaehzVbRSfbRwGWnF8sV02Ssfz1Z |\n",
      "|                                              |                                                         | With languages spread across its sand.              |                                  |                                  |                                        |\n",
      "|                                              |                                                         | From Quechua and Guarani, both quite old,           |                                  |                                  |                                        |\n",
      "|                                              |                                                         | To Spanish and Portuguese, their stories told.      |                                  |                                  |                                        |\n",
      "|                                              |                                                         |                                                     |                                  |                                  |                                        |\n",
      "|                                              |                                                         | Hundreds of tongues, indigenous and rare,           |                                  |                                  |                                        |\n",
      "|                                              |                                                         | Speak of cultures vibrant, roaming there.           |                                  |                                  |                                        |\n",
      "|                                              |                                                         | Though counting precise is tricky, you see,         |                                  |                                  |                                        |\n",
      "|                                              |                                                         | From 400 to more, the total might be!               |                                  |                                  |                                        |\n",
      "+----------------------------------------------+---------------------------------------------------------+-----------------------------------------------------+----------------------------------+----------------------------------+----------------------------------------+\n",
      "| How many languages are in the Europe?        | You're a chatbot that only responds in whimsical rhyme! | Oh, Europe’s a land so rich and fair,               | 3904f53f12d0eff77af6ac87e4612614 | 3904f53f12d0eff77af6ac87e4612614 | chatcmpl-BlaSMXbGDxdDqObTOT5AmwK9i4USo |\n",
      "|                                              |                                                         | With languages flowing everywhere!                  |                                  |                                  |                                        |\n",
      "|                                              |                                                         | From Swedish to Spanish, the tongues take flight,   |                                  |                                  |                                        |\n",
      "|                                              |                                                         | French and Italian under moonlight.                 |                                  |                                  |                                        |\n",
      "|                                              |                                                         |                                                     |                                  |                                  |                                        |\n",
      "|                                              |                                                         | Germanic, Slavic, and Celtic too,                   |                                  |                                  |                                        |\n",
      "|                                              |                                                         | So many dialects, more than a few.                  |                                  |                                  |                                        |\n",
      "|                                              |                                                         | Around 200, as linguists say,                       |                                  |                                  |                                        |\n",
      "|                                              |                                                         | Each weaving stories in its own way!                |                                  |                                  |                                        |\n",
      "|                                              |                                                         |                                                     |                                  |                                  |                                        |\n",
      "|                                              |                                                         | An exact count’s tough, so much to explore,         |                                  |                                  |                                        |\n",
      "|                                              |                                                         | Europe’s a treasure trove of linguistic lore!       |                                  |                                  |                                        |\n",
      "+----------------------------------------------+---------------------------------------------------------+-----------------------------------------------------+----------------------------------+----------------------------------+----------------------------------------+\n",
      "| How many languages are in Austria?           | You're a chatbot that only responds in whimsical rhyme! | Oh, Austria's lands are rich and grand,             | 579b3754c4d9068d5eb74840726283ad | 579b3754c4d9068d5eb74840726283ad | chatcmpl-Blcj60bh5QDd5qDtptVHyUnuImfIn |\n",
      "|                                              |                                                         | With languages spoken across the span!              |                                  |                                  |                                        |\n",
      "|                                              |                                                         | German's the chief, the tongue of decree,           |                                  |                                  |                                        |\n",
      "|                                              |                                                         | Heard in Vienna and the Tyrolean sea.               |                                  |                                  |                                        |\n",
      "|                                              |                                                         |                                                     |                                  |                                  |                                        |\n",
      "|                                              |                                                         | Yet sprinkled about, you'll also find,              |                                  |                                  |                                        |\n",
      "|                                              |                                                         | Croatian, Slovene—cultures entwined!                |                                  |                                  |                                        |\n",
      "|                                              |                                                         | Hungarian whispers in some hearts too,              |                                  |                                  |                                        |\n",
      "|                                              |                                                         | What a tapestry, a lovely view!                     |                                  |                                  |                                        |\n",
      "|                                              |                                                         |                                                     |                                  |                                  |                                        |\n",
      "|                                              |                                                         | So though German rules the vocal spree,             |                                  |                                  |                                        |\n",
      "|                                              |                                                         | Austria holds a linguistic marquee!                 |                                  |                                  |                                        |\n",
      "+----------------------------------------------+---------------------------------------------------------+-----------------------------------------------------+----------------------------------+----------------------------------+----------------------------------------+\n"
     ]
    }
   ],
   "source": [
    "from azure.applicationinsights.models import QueryBody\n",
    "from tabulate import tabulate\n",
    "\n",
    "\n",
    "# appId = You can find this in the Azure Portal under the \"API Access\" section of your Application Insights resource.\n",
    "response= appi_client.query.execute(app_id=appId, body=QueryBody(query=KUSTO_QUERY, timespan=\"PT24H\"))\n",
    "# Process and display the results\n",
    "\n",
    "if response.tables:\n",
    "    for table in response.tables:\n",
    "        # Extract column names\n",
    "        headers = [col.name for col in table.columns]\n",
    "        \n",
    "        # Extract rows\n",
    "        rows = table.rows\n",
    "        \n",
    "        # Display the table using tabulate\n",
    "        print(tabulate(rows, headers=headers, tablefmt=\"grid\"))\n",
    "else:\n",
    "    print(\"No data found.\")"
   ]
  },
  {
   "cell_type": "markdown",
   "metadata": {},
   "source": [
    "## Save traces as json"
   ]
  },
  {
   "cell_type": "code",
   "execution_count": 12,
   "metadata": {},
   "outputs": [
    {
     "name": "stdout",
     "output_type": "stream",
     "text": [
      "Serialized table PrimaryResult to tmp\\from_appi_PrimaryResult_2025-06-23_16-47-16.jsonl\n"
     ]
    }
   ],
   "source": [
    "import json\n",
    "from datetime import datetime\n",
    "            \n",
    "def serialize_to_jsonl(response, file_prefix=\"traces\"):\n",
    "    # Assuming `response.tables` contains the tables from the Application Insights query\n",
    "    if response.tables:\n",
    "        for table in response.tables:\n",
    "            # Extract column names\n",
    "            headers = [col.name for col in table.columns]\n",
    "            \n",
    "            # Extract rows\n",
    "            rows = table.rows\n",
    "            \n",
    "            # Serialize each row as a JSON object and write to a JSONL file\n",
    "            \n",
    "            # Generate a human-readable timestamp\n",
    "            timestamp = datetime.now().strftime(\"%Y-%m-%d_%H-%M-%S\")\n",
    "\n",
    "            output_file = f\"{file_prefix}_{table.name}_{timestamp}.jsonl\"\n",
    "            with open(output_file, \"w\") as jsonl_file:\n",
    "                for row in rows:\n",
    "                    json_line = {headers[i]: row[i] for i in range(len(headers))}\n",
    "                    jsonl_file.write(json.dumps(json_line) + \"\\n\")\n",
    "            \n",
    "            print(f\"Serialized table {table.name} to {output_file}\")\n",
    "    else:\n",
    "        print(\"No data found.\")\n",
    "\n",
    "serialize_to_jsonl(response, file_prefix=TMP_DIR / \"from_appi\")"
   ]
  },
  {
   "cell_type": "code",
   "execution_count": null,
   "metadata": {},
   "outputs": [],
   "source": []
  }
 ],
 "metadata": {
  "kernelspec": {
   "display_name": "azureai_py3_12",
   "language": "python",
   "name": "python3"
  },
  "language_info": {
   "codemirror_mode": {
    "name": "ipython",
    "version": 3
   },
   "file_extension": ".py",
   "mimetype": "text/x-python",
   "name": "python",
   "nbconvert_exporter": "python",
   "pygments_lexer": "ipython3",
   "version": "3.12.11"
  }
 },
 "nbformat": 4,
 "nbformat_minor": 2
}

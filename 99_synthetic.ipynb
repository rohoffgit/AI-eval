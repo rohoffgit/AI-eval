{
 "cells": [
  {
   "cell_type": "code",
   "execution_count": 1,
   "metadata": {},
   "outputs": [],
   "source": [
    "from azure.ai.evaluation.simulator import Simulator"
   ]
  },
  {
   "cell_type": "code",
   "execution_count": null,
   "metadata": {},
   "outputs": [],
   "source": [
    "# pip install wikipedia"
   ]
  },
  {
   "cell_type": "code",
   "execution_count": 3,
   "metadata": {},
   "outputs": [],
   "source": [
    "import asyncio\n",
    "from azure.identity import DefaultAzureCredential\n",
    "import wikipedia\n",
    "import os\n",
    "from typing import List, Dict, Any, Optional\n",
    "# Prepare the text to send to the simulator\n",
    "wiki_search_term = \"Leonardo da vinci\"\n",
    "wiki_title = wikipedia.search(wiki_search_term)[0]\n",
    "wiki_page = wikipedia.page(wiki_title)\n",
    "text = wiki_page.summary[:5000]"
   ]
  },
  {
   "cell_type": "code",
   "execution_count": 4,
   "metadata": {},
   "outputs": [
    {
     "data": {
      "text/plain": [
       "\"Leonardo di ser Piero da Vinci (15 April 1452 – 2 May 1519) was an Italian polymath of the High Renaissance who was active as a painter, draughtsman, engineer, scientist, theorist, sculptor, and architect. While his fame initially rested on his achievements as a painter, he has also become known for his notebooks, in which he made drawings and notes on a variety of subjects, including anatomy, astronomy, botany, cartography, painting, and palaeontology. Leonardo is widely regarded to have been a genius who epitomised the Renaissance humanist ideal, and his collective works comprise a contribution to later generations of artists matched only by that of his younger contemporary Michelangelo.\\nBorn out of wedlock to a successful notary and a lower-class woman in, or near, Vinci, he was educated in Florence by the Italian painter and sculptor Andrea del Verrocchio. He began his career in the city, but then spent much time in the service of Ludovico Sforza in Milan. Later, he worked in Florence and Milan again, as well as briefly in Rome, all while attracting a large following of imitators and students. Upon the invitation of Francis I, he spent his last three years in France, where he died in 1519. Since his death, there has not been a time where his achievements, diverse interests, personal life, and empirical thinking have failed to incite interest and admiration, making him a frequent namesake and subject in culture.\\nLeonardo is identified as one of the greatest painters in the history of Western art and is often credited as the founder of the High Renaissance. Despite having many lost works and fewer than 25 attributed major works – including numerous unfinished works – he created some of the most influential paintings in the Western canon. The Mona Lisa is his best known work and is the world's most famous individual painting. The Last Supper is the most reproduced religious painting of all time and his Vitruvian Man drawing is also regarded as a cultural icon. In 2017, Salvator Mundi, attributed in whole or part to Leonardo, was sold at auction for US$450.3 million, setting a new record for the most expensive painting ever sold at public auction.\\nRevered for his technological ingenuity, he conceptualised flying machines, a type of armoured fighting vehicle, concentrated solar power, a ratio machine that could be used in an adding machine, and the double hull. Relatively few of his designs were constructed or were even feasible during his lifetime, as the modern scientific approaches to metallurgy and engineering were only in their infancy during the Renaissance. Some of his smaller inventions, however, entered the world of manufacturing unheralded, such as an automated bobbin winder and a machine for testing the tensile strength of wire. He made substantial discoveries in anatomy, civil engineering, hydrodynamics, geology, optics, and tribology, but he did not publish his findings and they had little to no direct influence on subsequent science.\""
      ]
     },
     "execution_count": 4,
     "metadata": {},
     "output_type": "execute_result"
    }
   ],
   "source": [
    "text"
   ]
  },
  {
   "cell_type": "code",
   "execution_count": null,
   "metadata": {},
   "outputs": [],
   "source": [
    "azure_ai_project = {\n",
    "    \"subscription_id\": os.environ.get(\"AZURE_SUBSCRIPTION_ID\"),\n",
    "    \"resource_group_name\": os.environ.get(\"AZURE_RESOURCE_GROUP\"),\n",
    "    \"project_name\": os.environ.get(\"AZURE_PROJECT_NAME\"),\n",
    "}\n",
    "\n",
    "model_config = {\n",
    "    \"azure_endpoint\": os.environ.get(\"AZURE_OPENAI_ENDPOINT\"),\n",
    "    \"api_key\": os.environ.get(\"AZURE_OPENAI_API_KEY\"),\n",
    "    \"azure_deployment\": os.environ.get(\"AZURE_OPENAI_DEPLOYMENT\"),\n",
    "    \"api_version\": os.environ.get(\"AZURE_OPENAI_API_VERSION\"),\n",
    "    \"type\": \"azure_openai\"\n",
    "}"
   ]
  },
  {
   "cell_type": "code",
   "execution_count": 12,
   "metadata": {},
   "outputs": [],
   "source": [
    "async def callback(\n",
    "    messages: List[Dict],\n",
    "    stream: bool = False,\n",
    "    session_state: Any = None,\n",
    "    context: Optional[Dict[str, Any]] = None,\n",
    ") -> dict:\n",
    "    query = messages[\"messages\"][0][\"content\"]\n",
    "\n",
    "    formatted_response = {\"content\": query, \"role\": \"assistant\"}\n",
    "    messages[\"messages\"].append(formatted_response)\n",
    "    return {\n",
    "        \"messages\": messages[\"messages\"],\n",
    "        \"stream\": stream,\n",
    "        \"session_state\": session_state,\n",
    "        \"context\": context,\n",
    "    }\n"
   ]
  },
  {
   "cell_type": "code",
   "execution_count": 24,
   "metadata": {},
   "outputs": [
    {
     "name": "stderr",
     "output_type": "stream",
     "text": [
      "Generating: 100%|██████████████████████████████████████████████| 10/10 [00:18<00:00,  1.89s/message]\n"
     ]
    }
   ],
   "source": [
    "#model_config = {\n",
    "#        \"azure_endpoint\": \"<your_azure_endpoint>\",\n",
    "#        \"azure_deployment\": \"<deployment_name>\"\n",
    "#    }\n",
    "\n",
    "# https://learn.microsoft.com/en-us/python/api/azure-ai-evaluation/azure.ai.evaluation.simulator.simulator?view=azure-python\n",
    "simulator = Simulator(model_config=model_config)\n",
    "\n",
    "outputs = await simulator(\n",
    "    target=callback,\n",
    "    text=text,\n",
    "    tasks=[f\"I am a 5 year old child wanting to know more about {wiki_search_term}\", F\"Syo una chica que quiere saber de {wiki_search_term}\"],\n",
    "    num_queries=2,  # Minimal number of queries\n",
    ")"
   ]
  },
  {
   "cell_type": "code",
   "execution_count": 25,
   "metadata": {},
   "outputs": [
    {
     "data": {
      "text/plain": [
       "[{'messages': [{'role': 'user',\n",
       "    'content': 'Can you tell me when Leonardo da Vinci was born?',\n",
       "    'context': 'None'},\n",
       "   {'role': 'assistant',\n",
       "    'content': 'Can you tell me when Leonardo da Vinci was born?',\n",
       "    'context': ''},\n",
       "   {'role': 'user',\n",
       "    'content': \"Wow, that's cool! What did Leonardo da Vinci do?\",\n",
       "    'context': 'None'},\n",
       "   {'role': 'assistant',\n",
       "    'content': 'Can you tell me when Leonardo da Vinci was born?',\n",
       "    'context': ''},\n",
       "   {'role': 'user',\n",
       "    'content': 'Leonardo da Vinci was a painter, inventor, and scientist! He painted the famous Mona Lisa and The Last Supper. He also designed flying machines and studied the human body. Do you want to know more about his paintings or inventions?',\n",
       "    'context': 'None'},\n",
       "   {'role': 'assistant',\n",
       "    'content': 'Can you tell me when Leonardo da Vinci was born?',\n",
       "    'context': ''},\n",
       "   {'role': 'user',\n",
       "    'content': 'I want to know more about his inventions! What kind of flying machines did he design?',\n",
       "    'context': 'None'},\n",
       "   {'role': 'assistant',\n",
       "    'content': 'Can you tell me when Leonardo da Vinci was born?',\n",
       "    'context': ''},\n",
       "   {'role': 'user',\n",
       "    'content': \"Wow, flying machines sound amazing! Did any of Leonardo's flying machine designs actually work?\",\n",
       "    'context': 'None'},\n",
       "   {'role': 'assistant',\n",
       "    'content': 'Can you tell me when Leonardo da Vinci was born?',\n",
       "    'context': ''}],\n",
       "  'finish_reason': ['stop'],\n",
       "  'context': {'task': 'I am a 5 year old child wanting to know more about Leonardo da vinci',\n",
       "   'expected_response': '15 April 1452',\n",
       "   'query': 'When was Leonardo da Vinci born?',\n",
       "   'original_text': \"Leonardo di ser Piero da Vinci (15 April 1452 – 2 May 1519) was an Italian polymath of the High Renaissance who was active as a painter, draughtsman, engineer, scientist, theorist, sculptor, and architect. While his fame initially rested on his achievements as a painter, he has also become known for his notebooks, in which he made drawings and notes on a variety of subjects, including anatomy, astronomy, botany, cartography, painting, and palaeontology. Leonardo is widely regarded to have been a genius who epitomised the Renaissance humanist ideal, and his collective works comprise a contribution to later generations of artists matched only by that of his younger contemporary Michelangelo.\\nBorn out of wedlock to a successful notary and a lower-class woman in, or near, Vinci, he was educated in Florence by the Italian painter and sculptor Andrea del Verrocchio. He began his career in the city, but then spent much time in the service of Ludovico Sforza in Milan. Later, he worked in Florence and Milan again, as well as briefly in Rome, all while attracting a large following of imitators and students. Upon the invitation of Francis I, he spent his last three years in France, where he died in 1519. Since his death, there has not been a time where his achievements, diverse interests, personal life, and empirical thinking have failed to incite interest and admiration, making him a frequent namesake and subject in culture.\\nLeonardo is identified as one of the greatest painters in the history of Western art and is often credited as the founder of the High Renaissance. Despite having many lost works and fewer than 25 attributed major works – including numerous unfinished works – he created some of the most influential paintings in the Western canon. The Mona Lisa is his best known work and is the world's most famous individual painting. The Last Supper is the most reproduced religious painting of all time and his Vitruvian Man drawing is also regarded as a cultural icon. In 2017, Salvator Mundi, attributed in whole or part to Leonardo, was sold at auction for US$450.3 million, setting a new record for the most expensive painting ever sold at public auction.\\nRevered for his technological ingenuity, he conceptualised flying machines, a type of armoured fighting vehicle, concentrated solar power, a ratio machine that could be used in an adding machine, and the double hull. Relatively few of his designs were constructed or were even feasible during his lifetime, as the modern scientific approaches to metallurgy and engineering were only in their infancy during the Renaissance. Some of his smaller inventions, however, entered the world of manufacturing unheralded, such as an automated bobbin winder and a machine for testing the tensile strength of wire. He made substantial discoveries in anatomy, civil engineering, hydrodynamics, geology, optics, and tribology, but he did not publish his findings and they had little to no direct influence on subsequent science.\"},\n",
       "  '$schema': 'http://azureml/sdk-2-0/ChatConversation.json'},\n",
       " {'messages': [{'role': 'user',\n",
       "    'content': 'I want to know more about Leonardo da Vinci. Can you tell me about his most famous work?',\n",
       "    'context': 'None'},\n",
       "   {'role': 'assistant',\n",
       "    'content': 'I want to know more about Leonardo da Vinci. Can you tell me about his most famous work?',\n",
       "    'context': ''},\n",
       "   {'role': 'user',\n",
       "    'content': 'Thank you! Can you tell me more about his contributions to science and engineering?',\n",
       "    'context': 'None'},\n",
       "   {'role': 'assistant',\n",
       "    'content': 'I want to know more about Leonardo da Vinci. Can you tell me about his most famous work?',\n",
       "    'context': ''},\n",
       "   {'role': 'user',\n",
       "    'content': \"That's fascinating! Could you also tell me about Leonardo da Vinci's early life and how he became interested in art and science?\",\n",
       "    'context': 'None'},\n",
       "   {'role': 'assistant',\n",
       "    'content': 'I want to know more about Leonardo da Vinci. Can you tell me about his most famous work?',\n",
       "    'context': ''},\n",
       "   {'role': 'user',\n",
       "    'content': \"That's really interesting! Could you tell me about some of Leonardo da Vinci's lesser-known works or inventions?\",\n",
       "    'context': 'None'},\n",
       "   {'role': 'assistant',\n",
       "    'content': 'I want to know more about Leonardo da Vinci. Can you tell me about his most famous work?',\n",
       "    'context': ''},\n",
       "   {'role': 'user',\n",
       "    'content': \"Thank you for the information! Can you tell me about Leonardo da Vinci's impact on modern art and science?\",\n",
       "    'context': 'None'},\n",
       "   {'role': 'assistant',\n",
       "    'content': 'I want to know more about Leonardo da Vinci. Can you tell me about his most famous work?',\n",
       "    'context': ''}],\n",
       "  'finish_reason': ['stop'],\n",
       "  'context': {'task': 'Syo una chica que quiere saber de Leonardo da vinci',\n",
       "   'expected_response': 'Mona Lisa',\n",
       "   'query': \"What is the name of Leonardo da Vinci's best known work?\",\n",
       "   'original_text': \"Leonardo di ser Piero da Vinci (15 April 1452 – 2 May 1519) was an Italian polymath of the High Renaissance who was active as a painter, draughtsman, engineer, scientist, theorist, sculptor, and architect. While his fame initially rested on his achievements as a painter, he has also become known for his notebooks, in which he made drawings and notes on a variety of subjects, including anatomy, astronomy, botany, cartography, painting, and palaeontology. Leonardo is widely regarded to have been a genius who epitomised the Renaissance humanist ideal, and his collective works comprise a contribution to later generations of artists matched only by that of his younger contemporary Michelangelo.\\nBorn out of wedlock to a successful notary and a lower-class woman in, or near, Vinci, he was educated in Florence by the Italian painter and sculptor Andrea del Verrocchio. He began his career in the city, but then spent much time in the service of Ludovico Sforza in Milan. Later, he worked in Florence and Milan again, as well as briefly in Rome, all while attracting a large following of imitators and students. Upon the invitation of Francis I, he spent his last three years in France, where he died in 1519. Since his death, there has not been a time where his achievements, diverse interests, personal life, and empirical thinking have failed to incite interest and admiration, making him a frequent namesake and subject in culture.\\nLeonardo is identified as one of the greatest painters in the history of Western art and is often credited as the founder of the High Renaissance. Despite having many lost works and fewer than 25 attributed major works – including numerous unfinished works – he created some of the most influential paintings in the Western canon. The Mona Lisa is his best known work and is the world's most famous individual painting. The Last Supper is the most reproduced religious painting of all time and his Vitruvian Man drawing is also regarded as a cultural icon. In 2017, Salvator Mundi, attributed in whole or part to Leonardo, was sold at auction for US$450.3 million, setting a new record for the most expensive painting ever sold at public auction.\\nRevered for his technological ingenuity, he conceptualised flying machines, a type of armoured fighting vehicle, concentrated solar power, a ratio machine that could be used in an adding machine, and the double hull. Relatively few of his designs were constructed or were even feasible during his lifetime, as the modern scientific approaches to metallurgy and engineering were only in their infancy during the Renaissance. Some of his smaller inventions, however, entered the world of manufacturing unheralded, such as an automated bobbin winder and a machine for testing the tensile strength of wire. He made substantial discoveries in anatomy, civil engineering, hydrodynamics, geology, optics, and tribology, but he did not publish his findings and they had little to no direct influence on subsequent science.\"},\n",
       "  '$schema': 'http://azureml/sdk-2-0/ChatConversation.json'}]"
      ]
     },
     "execution_count": 25,
     "metadata": {},
     "output_type": "execute_result"
    }
   ],
   "source": [
    "outputs"
   ]
  },
  {
   "cell_type": "code",
   "execution_count": null,
   "metadata": {},
   "outputs": [],
   "source": []
  }
 ],
 "metadata": {
  "kernelspec": {
   "display_name": "azureai_py3_12",
   "language": "python",
   "name": "python3"
  },
  "language_info": {
   "codemirror_mode": {
    "name": "ipython",
    "version": 3
   },
   "file_extension": ".py",
   "mimetype": "text/x-python",
   "name": "python",
   "nbconvert_exporter": "python",
   "pygments_lexer": "ipython3",
   "version": "3.12.9"
  }
 },
 "nbformat": 4,
 "nbformat_minor": 2
}
